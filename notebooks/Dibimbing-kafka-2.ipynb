{
 "cells": [
  {
   "cell_type": "code",
   "execution_count": 1,
   "id": "aa3d2efe-9447-4b55-b7a7-5e3b51762fe8",
   "metadata": {
    "tags": []
   },
   "outputs": [],
   "source": [
    "import json\n",
    "import uuid\n",
    "import os\n",
    "import json\n",
    "from dotenv import load_dotenv\n",
    "from pathlib import Path\n",
    "from kafka import KafkaProducer\n",
    "from faker import Faker\n",
    "from time import sleep\n",
    "from kafka import KafkaConsumer"
   ]
  },
  {
   "cell_type": "code",
   "execution_count": 2,
   "id": "f8124ea4-9961-4141-8f61-4b3a31b35beb",
   "metadata": {
    "tags": []
   },
   "outputs": [
    {
     "data": {
      "text/plain": [
       "True"
      ]
     },
     "execution_count": 2,
     "metadata": {},
     "output_type": "execute_result"
    }
   ],
   "source": [
    "dotenv_path = Path('/resources/.env')\n",
    "load_dotenv(dotenv_path=dotenv_path)"
   ]
  },
  {
   "cell_type": "code",
   "execution_count": 3,
   "id": "984cf422-fabd-43a4-8e1e-9771303b556b",
   "metadata": {
    "tags": []
   },
   "outputs": [],
   "source": [
    "kafka_host = os.getenv('KAFKA_HOST')\n",
    "kafka_topic = os.getenv('KAFKA_TOPIC_NAME')\n",
    "kafka_topic_partition = os.getenv('KAFKA_TOPIC_NAME')+\"-1\""
   ]
  },
  {
   "cell_type": "code",
   "execution_count": 4,
   "id": "c75ef73b-f1ad-451e-b937-3c6b7d0e0951",
   "metadata": {
    "tags": []
   },
   "outputs": [
    {
     "name": "stdout",
     "output_type": "stream",
     "text": [
      "dataeng-kafka\n",
      "penjualan-obat\n",
      "penjualan-obat-1\n"
     ]
    }
   ],
   "source": [
    "print(kafka_host)\n",
    "print(kafka_topic)\n",
    "print(kafka_topic_partition)"
   ]
  },
  {
   "cell_type": "code",
   "execution_count": 5,
   "id": "47d743be-7190-48e0-87c0-5f6ddedff5da",
   "metadata": {
    "tags": []
   },
   "outputs": [],
   "source": [
    "# from kafka import KafkaConsumer\n",
    "\n",
    "# To consume latest messages and auto-commit offsets\n",
    "consumer = KafkaConsumer(kafka_topic_partition,\n",
    "                         group_id='ajinusa-group',\n",
    "                         bootstrap_servers=[f'{kafka_host}:9092'])"
   ]
  },
  {
   "cell_type": "code",
   "execution_count": 6,
   "id": "47c9f9b3-a5b0-4bd5-93e7-dcf06e99b192",
   "metadata": {
    "tags": []
   },
   "outputs": [
    {
     "name": "stdout",
     "output_type": "stream",
     "text": [
      "penjualan-obat-1:0:58: key=None value=b'{\"transaction_id\": \"acc53cf0-112c-402b-9c93-2a82006eed95\", \"buyer_name\": \"Kathleen Skinner\", \"medication_name\": \"Cough Syrup\", \"quantity\": 4, \"unit_price\": 13057, \"total_price\": 31068, \"payment_method\": \"Cash\", \"transaction_date\": \"2025-01-04\", \"transaction_time\": \"14:06:16\"}'\n",
      "penjualan-obat-1:0:59: key=None value=b'{\"transaction_id\": \"80884acf-85ab-4855-bd62-22500f09631c\", \"buyer_name\": \"Christian Hawkins\", \"medication_name\": \"Cough Syrup\", \"quantity\": 5, \"unit_price\": 7153, \"total_price\": 55610, \"payment_method\": \"Cash\", \"transaction_date\": \"2025-01-12\", \"transaction_time\": \"13:19:27\"}'\n",
      "penjualan-obat-1:0:60: key=None value=b'{\"transaction_id\": \"c32cd169-2eda-4f75-8837-01c4c9cdb76d\", \"buyer_name\": \"Tyler Gray\", \"medication_name\": \"Ibuprofen\", \"quantity\": 4, \"unit_price\": 2043, \"total_price\": 5766, \"payment_method\": \"Cash\", \"transaction_date\": \"2025-01-10\", \"transaction_time\": \"20:47:15\"}'\n",
      "penjualan-obat-1:0:61: key=None value=b'{\"transaction_id\": \"78ddc47a-6516-4746-bedf-57ea55e361b0\", \"buyer_name\": \"Raymond Green\", \"medication_name\": \"Vitamin C\", \"quantity\": 2, \"unit_price\": 4745, \"total_price\": 53418, \"payment_method\": \"Debit Card\", \"transaction_date\": \"2025-01-02\", \"transaction_time\": \"13:16:27\"}'\n",
      "penjualan-obat-1:0:62: key=None value=b'{\"transaction_id\": \"5ac645d6-161f-4786-9ce5-f02e5edee20f\", \"buyer_name\": \"Jody Miller\", \"medication_name\": \"Paracetamol\", \"quantity\": 1, \"unit_price\": 15176, \"total_price\": 51054, \"payment_method\": \"Cash\", \"transaction_date\": \"2025-01-08\", \"transaction_time\": \"05:17:38\"}'\n",
      "penjualan-obat-1:0:63: key=None value=b'{\"transaction_id\": \"f5e55b3e-c2cf-4f6e-ad0b-71d9b97230bf\", \"buyer_name\": \"William Baker\", \"medication_name\": \"Antibiotik\", \"quantity\": 4, \"unit_price\": 8836, \"total_price\": 52507, \"payment_method\": \"Cash\", \"transaction_date\": \"2025-01-04\", \"transaction_time\": \"05:16:09\"}'\n",
      "penjualan-obat-1:0:64: key=None value=b'{\"transaction_id\": \"ed69c265-2c2d-4766-99a2-1795d10d2bd4\", \"buyer_name\": \"Fernando Williams\", \"medication_name\": \"Paracetamol\", \"quantity\": 2, \"unit_price\": 2737, \"total_price\": 12427, \"payment_method\": \"Cash\", \"transaction_date\": \"2025-01-15\", \"transaction_time\": \"02:45:40\"}'\n",
      "penjualan-obat-1:0:65: key=None value=b'{\"transaction_id\": \"ea7a0407-59d7-4ee7-9eb0-ddfb0742d40b\", \"buyer_name\": \"James Hall\", \"medication_name\": \"Paracetamol\", \"quantity\": 5, \"unit_price\": 7251, \"total_price\": 19161, \"payment_method\": \"Cash\", \"transaction_date\": \"2025-01-01\", \"transaction_time\": \"14:50:09\"}'\n",
      "penjualan-obat-1:0:66: key=None value=b'{\"transaction_id\": \"3b7885b2-9958-4c65-85c5-1d210f638038\", \"buyer_name\": \"Lacey Macias\", \"medication_name\": \"Paracetamol\", \"quantity\": 2, \"unit_price\": 6309, \"total_price\": 27219, \"payment_method\": \"Cash\", \"transaction_date\": \"2025-01-02\", \"transaction_time\": \"05:17:02\"}'\n",
      "penjualan-obat-1:0:67: key=None value=b'{\"transaction_id\": \"4abd9fcc-519d-4d7d-9269-178c0c5fdd40\", \"buyer_name\": \"Robert Wilson\", \"medication_name\": \"Ibuprofen\", \"quantity\": 5, \"unit_price\": 2473, \"total_price\": 5102, \"payment_method\": \"Cash\", \"transaction_date\": \"2025-01-01\", \"transaction_time\": \"22:56:55\"}'\n",
      "penjualan-obat-1:0:68: key=None value=b'{\"transaction_id\": \"cc5ab68f-6134-4763-90de-e6335da770bf\", \"buyer_name\": \"Brandon Kelly\", \"medication_name\": \"Ibuprofen\", \"quantity\": 1, \"unit_price\": 1000, \"total_price\": 71270, \"payment_method\": \"Debit Card\", \"transaction_date\": \"2025-01-11\", \"transaction_time\": \"02:03:34\"}'\n",
      "penjualan-obat-1:0:69: key=None value=b'{\"transaction_id\": \"332152d0-11d6-44db-ba1a-ea2fea99c6a8\", \"buyer_name\": \"Douglas Murphy\", \"medication_name\": \"Paracetamol\", \"quantity\": 5, \"unit_price\": 3297, \"total_price\": 83371, \"payment_method\": \"Cash\", \"transaction_date\": \"2025-01-09\", \"transaction_time\": \"15:10:52\"}'\n",
      "penjualan-obat-1:0:70: key=None value=b'{\"transaction_id\": \"d5de9221-f62a-4d45-af9f-58db46d58e97\", \"buyer_name\": \"Brandon Waller\", \"medication_name\": \"Paracetamol\", \"quantity\": 2, \"unit_price\": 12310, \"total_price\": 51201, \"payment_method\": \"Cash\", \"transaction_date\": \"2025-01-10\", \"transaction_time\": \"17:39:03\"}'\n",
      "penjualan-obat-1:0:71: key=None value=b'{\"transaction_id\": \"2d9898ed-b557-4361-960c-fbde454c3a09\", \"buyer_name\": \"Tamara Cook\", \"medication_name\": \"Amoxicillin\", \"quantity\": 5, \"unit_price\": 2852, \"total_price\": 80307, \"payment_method\": \"Cash\", \"transaction_date\": \"2025-01-18\", \"transaction_time\": \"09:00:59\"}'\n",
      "penjualan-obat-1:0:72: key=None value=b'{\"transaction_id\": \"369daf38-f658-4081-b0ac-0b31c0d62e74\", \"buyer_name\": \"Anita Clark\", \"medication_name\": \"Ibuprofen\", \"quantity\": 4, \"unit_price\": 15439, \"total_price\": 15077, \"payment_method\": \"Cash\", \"transaction_date\": \"2025-01-14\", \"transaction_time\": \"01:13:49\"}'\n",
      "penjualan-obat-1:0:73: key=None value=b'{\"transaction_id\": \"105e812b-3070-48a7-8601-b42d574bd6db\", \"buyer_name\": \"Catherine Martin\", \"medication_name\": \"Ibuprofen\", \"quantity\": 4, \"unit_price\": 1016, \"total_price\": 28132, \"payment_method\": \"Credit Card\", \"transaction_date\": \"2025-01-05\", \"transaction_time\": \"01:06:21\"}'\n",
      "penjualan-obat-1:0:74: key=None value=b'{\"transaction_id\": \"181fb18b-9145-4693-8d2d-6811268f6d03\", \"buyer_name\": \"Brandy Hughes\", \"medication_name\": \"Paracetamol\", \"quantity\": 3, \"unit_price\": 17306, \"total_price\": 12877, \"payment_method\": \"Debit Card\", \"transaction_date\": \"2025-01-05\", \"transaction_time\": \"13:24:23\"}'\n",
      "penjualan-obat-1:0:75: key=None value=b'{\"transaction_id\": \"9409a4a5-0a03-422f-9a47-fd087e7417fc\", \"buyer_name\": \"Shannon Horn\", \"medication_name\": \"Cough Syrup\", \"quantity\": 5, \"unit_price\": 13883, \"total_price\": 22314, \"payment_method\": \"Cash\", \"transaction_date\": \"2025-01-08\", \"transaction_time\": \"20:57:06\"}'\n",
      "penjualan-obat-1:0:76: key=None value=b'{\"transaction_id\": \"7c2298c3-2c88-4eb1-80a5-c389428c47c8\", \"buyer_name\": \"Paul Brooks\", \"medication_name\": \"Antibiotik\", \"quantity\": 2, \"unit_price\": 16977, \"total_price\": 90646, \"payment_method\": \"Credit Card\", \"transaction_date\": \"2025-01-14\", \"transaction_time\": \"09:49:05\"}'\n",
      "penjualan-obat-1:0:77: key=None value=b'{\"transaction_id\": \"d3556b34-ab90-4472-90c2-f6dae3f13b31\", \"buyer_name\": \"Katherine Hamilton\", \"medication_name\": \"Ibuprofen\", \"quantity\": 4, \"unit_price\": 11402, \"total_price\": 27155, \"payment_method\": \"Credit Card\", \"transaction_date\": \"2025-01-13\", \"transaction_time\": \"13:30:47\"}'\n",
      "penjualan-obat-1:0:78: key=None value=b'{\"transaction_id\": \"53499d46-257a-41e9-a4f3-a93e48db20e5\", \"buyer_name\": \"Erica Davis\", \"medication_name\": \"Ibuprofen\", \"quantity\": 3, \"unit_price\": 18373, \"total_price\": 56796, \"payment_method\": \"Credit Card\", \"transaction_date\": \"2025-01-10\", \"transaction_time\": \"02:38:25\"}'\n",
      "penjualan-obat-1:0:79: key=None value=b'{\"transaction_id\": \"788cc7e6-f762-4d7e-b6ce-bd3a1ca54ac7\", \"buyer_name\": \"Austin Wolfe\", \"medication_name\": \"Antibiotik\", \"quantity\": 2, \"unit_price\": 14108, \"total_price\": 78156, \"payment_method\": \"Credit Card\", \"transaction_date\": \"2025-01-13\", \"transaction_time\": \"03:22:19\"}'\n",
      "penjualan-obat-1:0:80: key=None value=b'{\"transaction_id\": \"ba6da506-fd7b-49fe-89b7-3726b325dfe0\", \"buyer_name\": \"Jason Carson\", \"medication_name\": \"Ibuprofen\", \"quantity\": 5, \"unit_price\": 7740, \"total_price\": 72106, \"payment_method\": \"Debit Card\", \"transaction_date\": \"2025-01-12\", \"transaction_time\": \"21:46:19\"}'\n",
      "penjualan-obat-1:0:81: key=None value=b'{\"transaction_id\": \"f773c219-4e0e-4008-b433-9bf495a1237a\", \"buyer_name\": \"Dr. Jason Mccarthy DDS\", \"medication_name\": \"Vitamin C\", \"quantity\": 5, \"unit_price\": 19996, \"total_price\": 52519, \"payment_method\": \"Debit Card\", \"transaction_date\": \"2025-01-02\", \"transaction_time\": \"14:11:38\"}'\n",
      "penjualan-obat-1:0:82: key=None value=b'{\"transaction_id\": \"89281bf4-755d-40ee-8e6b-7d2cd051369b\", \"buyer_name\": \"Karen Nelson\", \"medication_name\": \"Paracetamol\", \"quantity\": 4, \"unit_price\": 10161, \"total_price\": 61158, \"payment_method\": \"Debit Card\", \"transaction_date\": \"2025-01-04\", \"transaction_time\": \"23:57:41\"}'\n",
      "penjualan-obat-1:0:83: key=None value=b'{\"transaction_id\": \"ec20242f-7613-49bd-aeb1-2bdec00d876c\", \"buyer_name\": \"Christopher Sawyer\", \"medication_name\": \"Vitamin C\", \"quantity\": 2, \"unit_price\": 11973, \"total_price\": 72568, \"payment_method\": \"Debit Card\", \"transaction_date\": \"2025-01-14\", \"transaction_time\": \"05:57:58\"}'\n",
      "penjualan-obat-1:0:84: key=None value=b'{\"transaction_id\": \"6f1cfc8f-e33c-4310-ad4e-d156137de450\", \"buyer_name\": \"Briana Walter\", \"medication_name\": \"Amoxicillin\", \"quantity\": 2, \"unit_price\": 4539, \"total_price\": 13807, \"payment_method\": \"Cash\", \"transaction_date\": \"2025-01-01\", \"transaction_time\": \"20:24:09\"}'\n",
      "penjualan-obat-1:0:85: key=None value=b'{\"transaction_id\": \"4a46eeff-7f9a-4c9b-8b95-2f1683ceb880\", \"buyer_name\": \"Dale Chung\", \"medication_name\": \"Cough Syrup\", \"quantity\": 4, \"unit_price\": 9489, \"total_price\": 35335, \"payment_method\": \"Credit Card\", \"transaction_date\": \"2025-01-02\", \"transaction_time\": \"19:16:32\"}'\n",
      "penjualan-obat-1:0:86: key=None value=b'{\"transaction_id\": \"148775b0-10f6-4e07-a3c0-37c57b70c8ed\", \"buyer_name\": \"Michael Allen\", \"medication_name\": \"Cough Syrup\", \"quantity\": 3, \"unit_price\": 3989, \"total_price\": 9455, \"payment_method\": \"Cash\", \"transaction_date\": \"2025-01-06\", \"transaction_time\": \"18:59:14\"}'\n",
      "penjualan-obat-1:0:87: key=None value=b'{\"transaction_id\": \"29a2d4ef-d361-4a51-bb77-4d9a26a8a281\", \"buyer_name\": \"Steve Perkins\", \"medication_name\": \"Cough Syrup\", \"quantity\": 1, \"unit_price\": 17098, \"total_price\": 30285, \"payment_method\": \"Debit Card\", \"transaction_date\": \"2025-01-01\", \"transaction_time\": \"06:01:39\"}'\n",
      "penjualan-obat-1:0:88: key=None value=b'{\"transaction_id\": \"c779c9c7-4815-4ea9-b7ce-4fa7e5104e3a\", \"buyer_name\": \"Peter Kent\", \"medication_name\": \"Antibiotik\", \"quantity\": 4, \"unit_price\": 14474, \"total_price\": 65567, \"payment_method\": \"Credit Card\", \"transaction_date\": \"2025-01-18\", \"transaction_time\": \"08:22:54\"}'\n",
      "penjualan-obat-1:0:89: key=None value=b'{\"transaction_id\": \"953dfa2f-8db2-4ed3-a1b8-1f9e93ecb82a\", \"buyer_name\": \"Ricardo Mejia\", \"medication_name\": \"Amoxicillin\", \"quantity\": 3, \"unit_price\": 12493, \"total_price\": 94180, \"payment_method\": \"Cash\", \"transaction_date\": \"2025-01-19\", \"transaction_time\": \"16:29:59\"}'\n",
      "penjualan-obat-1:0:90: key=None value=b'{\"transaction_id\": \"27599990-647c-4554-9b2e-9da683186c47\", \"buyer_name\": \"Mark Ochoa\", \"medication_name\": \"Antibiotik\", \"quantity\": 2, \"unit_price\": 6860, \"total_price\": 96573, \"payment_method\": \"Credit Card\", \"transaction_date\": \"2025-01-04\", \"transaction_time\": \"01:54:06\"}'\n",
      "penjualan-obat-1:0:91: key=None value=b'{\"transaction_id\": \"03138921-ac91-4061-9986-6ba49eb661b8\", \"buyer_name\": \"Connie Orr\", \"medication_name\": \"Cough Syrup\", \"quantity\": 3, \"unit_price\": 10578, \"total_price\": 42707, \"payment_method\": \"Cash\", \"transaction_date\": \"2025-01-01\", \"transaction_time\": \"12:40:33\"}'\n",
      "penjualan-obat-1:0:92: key=None value=b'{\"transaction_id\": \"ff73b26d-097b-4eda-aaad-f5a60be4de69\", \"buyer_name\": \"Julia Watson\", \"medication_name\": \"Paracetamol\", \"quantity\": 2, \"unit_price\": 1359, \"total_price\": 14344, \"payment_method\": \"Credit Card\", \"transaction_date\": \"2025-01-01\", \"transaction_time\": \"16:20:11\"}'\n",
      "penjualan-obat-1:0:93: key=None value=b'{\"transaction_id\": \"c85fe458-b79a-42fe-abe6-2366f42023c1\", \"buyer_name\": \"Stephanie Edwards\", \"medication_name\": \"Antibiotik\", \"quantity\": 2, \"unit_price\": 2520, \"total_price\": 33390, \"payment_method\": \"Credit Card\", \"transaction_date\": \"2025-01-15\", \"transaction_time\": \"17:11:11\"}'\n",
      "penjualan-obat-1:0:94: key=None value=b'{\"transaction_id\": \"588a1124-ec12-4612-840d-e8d8621e843e\", \"buyer_name\": \"Adam Humphrey\", \"medication_name\": \"Amoxicillin\", \"quantity\": 2, \"unit_price\": 14567, \"total_price\": 73883, \"payment_method\": \"Credit Card\", \"transaction_date\": \"2025-01-16\", \"transaction_time\": \"15:50:28\"}'\n",
      "penjualan-obat-1:0:95: key=None value=b'{\"transaction_id\": \"29cb4935-6c40-4395-baa4-d79a322de862\", \"buyer_name\": \"Katherine Lee\", \"medication_name\": \"Ibuprofen\", \"quantity\": 4, \"unit_price\": 6415, \"total_price\": 31553, \"payment_method\": \"Cash\", \"transaction_date\": \"2025-01-07\", \"transaction_time\": \"09:12:18\"}'\n",
      "penjualan-obat-1:0:96: key=None value=b'{\"transaction_id\": \"9215bc81-2ff1-4886-a77e-2c105b7df481\", \"buyer_name\": \"Andrew Martinez\", \"medication_name\": \"Vitamin C\", \"quantity\": 3, \"unit_price\": 19338, \"total_price\": 62011, \"payment_method\": \"Debit Card\", \"transaction_date\": \"2025-01-04\", \"transaction_time\": \"15:38:00\"}'\n",
      "penjualan-obat-1:0:97: key=None value=b'{\"transaction_id\": \"ad129f60-10b6-4900-a3e6-8b7bf68d0d32\", \"buyer_name\": \"Deborah Davis\", \"medication_name\": \"Paracetamol\", \"quantity\": 4, \"unit_price\": 5172, \"total_price\": 35412, \"payment_method\": \"Cash\", \"transaction_date\": \"2025-01-02\", \"transaction_time\": \"11:53:36\"}'\n",
      "penjualan-obat-1:0:98: key=None value=b'{\"transaction_id\": \"65e5dd0b-975e-4718-b42a-60ddc774dd11\", \"buyer_name\": \"Tammy Salinas\", \"medication_name\": \"Vitamin C\", \"quantity\": 3, \"unit_price\": 8873, \"total_price\": 94568, \"payment_method\": \"Debit Card\", \"transaction_date\": \"2025-01-01\", \"transaction_time\": \"07:24:36\"}'\n",
      "penjualan-obat-1:0:99: key=None value=b'{\"transaction_id\": \"2ca4c9d8-c713-4724-ad0a-e0e93940b2cd\", \"buyer_name\": \"Katrina Smith\", \"medication_name\": \"Vitamin C\", \"quantity\": 1, \"unit_price\": 5141, \"total_price\": 84288, \"payment_method\": \"Debit Card\", \"transaction_date\": \"2025-01-12\", \"transaction_time\": \"14:07:42\"}'\n",
      "penjualan-obat-1:0:100: key=None value=b'{\"transaction_id\": \"f4d37c4f-ed06-41c2-8e4d-ea30fb6b79f5\", \"buyer_name\": \"Catherine Bolton\", \"medication_name\": \"Antibiotik\", \"quantity\": 4, \"unit_price\": 11081, \"total_price\": 42133, \"payment_method\": \"Credit Card\", \"transaction_date\": \"2025-01-16\", \"transaction_time\": \"09:23:43\"}'\n",
      "penjualan-obat-1:0:101: key=None value=b'{\"transaction_id\": \"e574a2f6-30ce-4ed5-a9a4-a8a2d9aa7c59\", \"buyer_name\": \"Trevor Parker\", \"medication_name\": \"Antibiotik\", \"quantity\": 4, \"unit_price\": 7995, \"total_price\": 60874, \"payment_method\": \"Cash\", \"transaction_date\": \"2025-01-18\", \"transaction_time\": \"16:08:20\"}'\n",
      "penjualan-obat-1:0:102: key=None value=b'{\"transaction_id\": \"388d4109-e05a-495a-8b80-2bcb9b8cca97\", \"buyer_name\": \"Vickie Smith\", \"medication_name\": \"Cough Syrup\", \"quantity\": 1, \"unit_price\": 13074, \"total_price\": 76813, \"payment_method\": \"Credit Card\", \"transaction_date\": \"2025-01-03\", \"transaction_time\": \"21:56:21\"}'\n",
      "penjualan-obat-1:0:103: key=None value=b'{\"transaction_id\": \"236f10ca-fe01-4864-8c82-da0566daf3a3\", \"buyer_name\": \"Jessica Jones\", \"medication_name\": \"Amoxicillin\", \"quantity\": 2, \"unit_price\": 10697, \"total_price\": 60357, \"payment_method\": \"Credit Card\", \"transaction_date\": \"2025-01-06\", \"transaction_time\": \"11:59:30\"}'\n",
      "penjualan-obat-1:0:104: key=None value=b'{\"transaction_id\": \"fec1e349-e0c7-47bb-befd-21d9295e41a5\", \"buyer_name\": \"Jason Rodriguez\", \"medication_name\": \"Cough Syrup\", \"quantity\": 2, \"unit_price\": 18787, \"total_price\": 98464, \"payment_method\": \"Debit Card\", \"transaction_date\": \"2025-01-13\", \"transaction_time\": \"02:42:40\"}'\n",
      "penjualan-obat-1:0:105: key=None value=b'{\"transaction_id\": \"89921558-415a-47d1-bbd6-c215e9b26c95\", \"buyer_name\": \"Caleb Williams\", \"medication_name\": \"Ibuprofen\", \"quantity\": 1, \"unit_price\": 2869, \"total_price\": 43697, \"payment_method\": \"Cash\", \"transaction_date\": \"2025-01-09\", \"transaction_time\": \"03:53:56\"}'\n",
      "penjualan-obat-1:0:106: key=None value=b'{\"transaction_id\": \"d7bd00a1-2ca0-4548-9122-dd5f0ff3f7a6\", \"buyer_name\": \"Daniel Harper\", \"medication_name\": \"Ibuprofen\", \"quantity\": 3, \"unit_price\": 15652, \"total_price\": 66324, \"payment_method\": \"Debit Card\", \"transaction_date\": \"2025-01-15\", \"transaction_time\": \"01:50:32\"}'\n",
      "penjualan-obat-1:0:107: key=None value=b'{\"transaction_id\": \"f6b59ff2-46dd-449e-be9a-c695d7562960\", \"buyer_name\": \"Jordan Garcia\", \"medication_name\": \"Amoxicillin\", \"quantity\": 2, \"unit_price\": 2357, \"total_price\": 57574, \"payment_method\": \"Debit Card\", \"transaction_date\": \"2025-01-16\", \"transaction_time\": \"03:46:54\"}'\n",
      "penjualan-obat-1:0:108: key=None value=b'{\"transaction_id\": \"1042d8e4-734e-4de8-9a73-3163a2b422e2\", \"buyer_name\": \"Lisa Green DVM\", \"medication_name\": \"Antibiotik\", \"quantity\": 4, \"unit_price\": 7532, \"total_price\": 39737, \"payment_method\": \"Credit Card\", \"transaction_date\": \"2025-01-15\", \"transaction_time\": \"18:56:58\"}'\n",
      "penjualan-obat-1:0:109: key=None value=b'{\"transaction_id\": \"500aaa5e-03b3-4fc8-b45e-ebea065be9e9\", \"buyer_name\": \"Robert Francis\", \"medication_name\": \"Ibuprofen\", \"quantity\": 5, \"unit_price\": 2690, \"total_price\": 96427, \"payment_method\": \"Debit Card\", \"transaction_date\": \"2025-01-06\", \"transaction_time\": \"06:31:57\"}'\n",
      "penjualan-obat-1:0:110: key=None value=b'{\"transaction_id\": \"5f7ee11e-640d-46bd-a376-cb5243377453\", \"buyer_name\": \"Jessica Long\", \"medication_name\": \"Vitamin C\", \"quantity\": 4, \"unit_price\": 13183, \"total_price\": 63146, \"payment_method\": \"Credit Card\", \"transaction_date\": \"2025-01-18\", \"transaction_time\": \"08:50:54\"}'\n",
      "penjualan-obat-1:0:111: key=None value=b'{\"transaction_id\": \"b73ee286-6800-4d21-80d6-55df10039001\", \"buyer_name\": \"Tanya Woodard\", \"medication_name\": \"Cough Syrup\", \"quantity\": 5, \"unit_price\": 19678, \"total_price\": 33728, \"payment_method\": \"Debit Card\", \"transaction_date\": \"2025-01-14\", \"transaction_time\": \"07:52:09\"}'\n",
      "penjualan-obat-1:0:112: key=None value=b'{\"transaction_id\": \"4118cacc-6e18-40b2-aaed-1d5ac0658b49\", \"buyer_name\": \"Connie Smith\", \"medication_name\": \"Paracetamol\", \"quantity\": 2, \"unit_price\": 19342, \"total_price\": 79764, \"payment_method\": \"Debit Card\", \"transaction_date\": \"2025-01-15\", \"transaction_time\": \"10:31:42\"}'\n",
      "penjualan-obat-1:0:113: key=None value=b'{\"transaction_id\": \"7da42e19-01ea-48b1-84e7-e071374dcddf\", \"buyer_name\": \"Amy Baker\", \"medication_name\": \"Vitamin C\", \"quantity\": 1, \"unit_price\": 5061, \"total_price\": 55213, \"payment_method\": \"Debit Card\", \"transaction_date\": \"2025-01-10\", \"transaction_time\": \"20:00:57\"}'\n",
      "penjualan-obat-1:0:114: key=None value=b'{\"transaction_id\": \"85359e70-0abf-413c-8a0a-3aeed6eb132f\", \"buyer_name\": \"Monica Ramirez\", \"medication_name\": \"Cough Syrup\", \"quantity\": 3, \"unit_price\": 14514, \"total_price\": 99945, \"payment_method\": \"Cash\", \"transaction_date\": \"2025-01-04\", \"transaction_time\": \"19:15:49\"}'\n",
      "penjualan-obat-1:0:115: key=None value=b'{\"transaction_id\": \"7499e872-cc4d-47e1-a800-0426ef4b656f\", \"buyer_name\": \"Tasha Dominguez\", \"medication_name\": \"Cough Syrup\", \"quantity\": 4, \"unit_price\": 6924, \"total_price\": 18451, \"payment_method\": \"Cash\", \"transaction_date\": \"2025-01-03\", \"transaction_time\": \"11:34:25\"}'\n",
      "penjualan-obat-1:0:116: key=None value=b'{\"transaction_id\": \"5c7459c6-6620-4ded-81e6-12189b06c467\", \"buyer_name\": \"James Rivera\", \"medication_name\": \"Ibuprofen\", \"quantity\": 4, \"unit_price\": 2205, \"total_price\": 62942, \"payment_method\": \"Credit Card\", \"transaction_date\": \"2025-01-15\", \"transaction_time\": \"02:06:12\"}'\n",
      "penjualan-obat-1:0:117: key=None value=b'{\"transaction_id\": \"d99c52a6-5048-46a9-957c-6d22655a869e\", \"buyer_name\": \"Richard Reyes\", \"medication_name\": \"Amoxicillin\", \"quantity\": 4, \"unit_price\": 9402, \"total_price\": 58268, \"payment_method\": \"Debit Card\", \"transaction_date\": \"2025-01-17\", \"transaction_time\": \"03:06:08\"}'\n",
      "penjualan-obat-1:0:118: key=None value=b'{\"transaction_id\": \"aa42a493-a698-4356-883b-18a478002a6f\", \"buyer_name\": \"Jennifer Becker\", \"medication_name\": \"Paracetamol\", \"quantity\": 5, \"unit_price\": 18878, \"total_price\": 22120, \"payment_method\": \"Cash\", \"transaction_date\": \"2025-01-16\", \"transaction_time\": \"09:36:08\"}'\n",
      "penjualan-obat-1:0:119: key=None value=b'{\"transaction_id\": \"b587019e-5f1b-4338-af0f-622bc6d7862f\", \"buyer_name\": \"Michael Cruz\", \"medication_name\": \"Antibiotik\", \"quantity\": 2, \"unit_price\": 16258, \"total_price\": 64224, \"payment_method\": \"Credit Card\", \"transaction_date\": \"2025-01-08\", \"transaction_time\": \"22:31:38\"}'\n",
      "penjualan-obat-1:0:120: key=None value=b'{\"transaction_id\": \"0093bbbd-d5ed-41c1-b1ba-ff04543e1d6d\", \"buyer_name\": \"Kenneth Mccormick\", \"medication_name\": \"Antibiotik\", \"quantity\": 1, \"unit_price\": 5919, \"total_price\": 76959, \"payment_method\": \"Cash\", \"transaction_date\": \"2025-01-02\", \"transaction_time\": \"06:26:57\"}'\n",
      "penjualan-obat-1:0:121: key=None value=b'{\"transaction_id\": \"28f1c9f3-ddc0-4782-987e-3be410c4e18c\", \"buyer_name\": \"Jeremy Stewart\", \"medication_name\": \"Vitamin C\", \"quantity\": 1, \"unit_price\": 11926, \"total_price\": 94752, \"payment_method\": \"Credit Card\", \"transaction_date\": \"2025-01-17\", \"transaction_time\": \"10:16:40\"}'\n",
      "penjualan-obat-1:0:122: key=None value=b'{\"transaction_id\": \"df9bfbb8-adac-42e7-a017-cea0be7b2280\", \"buyer_name\": \"Paul Harris\", \"medication_name\": \"Ibuprofen\", \"quantity\": 3, \"unit_price\": 7443, \"total_price\": 13000, \"payment_method\": \"Cash\", \"transaction_date\": \"2025-01-06\", \"transaction_time\": \"14:53:43\"}'\n",
      "penjualan-obat-1:0:123: key=None value=b'{\"transaction_id\": \"f0f93645-88b9-4ac3-9d97-41d63eec0506\", \"buyer_name\": \"William Garcia\", \"medication_name\": \"Paracetamol\", \"quantity\": 5, \"unit_price\": 7091, \"total_price\": 99414, \"payment_method\": \"Cash\", \"transaction_date\": \"2025-01-19\", \"transaction_time\": \"09:27:52\"}'\n",
      "penjualan-obat-1:0:124: key=None value=b'{\"transaction_id\": \"1a2cf7ad-a08d-450a-a5eb-c243754ba06f\", \"buyer_name\": \"Daniel Foley\", \"medication_name\": \"Antibiotik\", \"quantity\": 2, \"unit_price\": 9471, \"total_price\": 37054, \"payment_method\": \"Cash\", \"transaction_date\": \"2025-01-06\", \"transaction_time\": \"23:03:12\"}'\n",
      "penjualan-obat-1:0:125: key=None value=b'{\"transaction_id\": \"73c8d8b5-41a1-4eb6-bacb-9e0b4dde280c\", \"buyer_name\": \"Harold Stewart\", \"medication_name\": \"Ibuprofen\", \"quantity\": 5, \"unit_price\": 10816, \"total_price\": 88581, \"payment_method\": \"Credit Card\", \"transaction_date\": \"2025-01-12\", \"transaction_time\": \"04:58:19\"}'\n",
      "penjualan-obat-1:0:126: key=None value=b'{\"transaction_id\": \"60f488aa-eb6f-4db2-b642-616b33cab1a1\", \"buyer_name\": \"Terry Harper\", \"medication_name\": \"Paracetamol\", \"quantity\": 4, \"unit_price\": 17827, \"total_price\": 42819, \"payment_method\": \"Cash\", \"transaction_date\": \"2025-01-05\", \"transaction_time\": \"22:56:57\"}'\n",
      "penjualan-obat-1:0:127: key=None value=b'{\"transaction_id\": \"51b29d67-8cef-4373-a827-9df78201806f\", \"buyer_name\": \"Dawn Parker\", \"medication_name\": \"Paracetamol\", \"quantity\": 1, \"unit_price\": 11063, \"total_price\": 72559, \"payment_method\": \"Debit Card\", \"transaction_date\": \"2025-01-04\", \"transaction_time\": \"17:31:18\"}'\n",
      "penjualan-obat-1:0:128: key=None value=b'{\"transaction_id\": \"d870e6dd-6d05-4f01-8991-18663bff2216\", \"buyer_name\": \"James Flores\", \"medication_name\": \"Vitamin C\", \"quantity\": 4, \"unit_price\": 8279, \"total_price\": 41841, \"payment_method\": \"Debit Card\", \"transaction_date\": \"2025-01-14\", \"transaction_time\": \"04:46:50\"}'\n",
      "penjualan-obat-1:0:129: key=None value=b'{\"transaction_id\": \"982aea31-68d6-4aea-b07d-952ac316e780\", \"buyer_name\": \"Crystal Conrad\", \"medication_name\": \"Paracetamol\", \"quantity\": 4, \"unit_price\": 7483, \"total_price\": 91301, \"payment_method\": \"Debit Card\", \"transaction_date\": \"2025-01-07\", \"transaction_time\": \"00:02:41\"}'\n",
      "penjualan-obat-1:0:130: key=None value=b'{\"transaction_id\": \"8b462ba1-cdb1-428e-b862-eb581c27bed8\", \"buyer_name\": \"John Davis\", \"medication_name\": \"Paracetamol\", \"quantity\": 4, \"unit_price\": 19989, \"total_price\": 67020, \"payment_method\": \"Cash\", \"transaction_date\": \"2025-01-05\", \"transaction_time\": \"07:15:04\"}'\n"
     ]
    },
    {
     "ename": "KeyboardInterrupt",
     "evalue": "",
     "output_type": "error",
     "traceback": [
      "\u001b[0;31m---------------------------------------------------------------------------\u001b[0m",
      "\u001b[0;31mKeyboardInterrupt\u001b[0m                         Traceback (most recent call last)",
      "Cell \u001b[0;32mIn[6], line 1\u001b[0m\n\u001b[0;32m----> 1\u001b[0m \u001b[38;5;28;01mfor\u001b[39;00m message \u001b[38;5;129;01min\u001b[39;00m consumer:\n\u001b[1;32m      2\u001b[0m     \u001b[38;5;28mprint\u001b[39m (\u001b[38;5;124m\"\u001b[39m\u001b[38;5;132;01m%s\u001b[39;00m\u001b[38;5;124m:\u001b[39m\u001b[38;5;132;01m%d\u001b[39;00m\u001b[38;5;124m:\u001b[39m\u001b[38;5;132;01m%d\u001b[39;00m\u001b[38;5;124m: key=\u001b[39m\u001b[38;5;132;01m%s\u001b[39;00m\u001b[38;5;124m value=\u001b[39m\u001b[38;5;132;01m%s\u001b[39;00m\u001b[38;5;124m\"\u001b[39m \u001b[38;5;241m%\u001b[39m (message\u001b[38;5;241m.\u001b[39mtopic, message\u001b[38;5;241m.\u001b[39mpartition,\n\u001b[1;32m      3\u001b[0m                                           message\u001b[38;5;241m.\u001b[39moffset, message\u001b[38;5;241m.\u001b[39mkey,\n\u001b[1;32m      4\u001b[0m                                           message\u001b[38;5;241m.\u001b[39mvalue))\n",
      "File \u001b[0;32m/opt/conda/lib/python3.10/site-packages/kafka/consumer/group.py:1193\u001b[0m, in \u001b[0;36mKafkaConsumer.__next__\u001b[0;34m(self)\u001b[0m\n\u001b[1;32m   1191\u001b[0m     \u001b[38;5;28;01mreturn\u001b[39;00m \u001b[38;5;28mself\u001b[39m\u001b[38;5;241m.\u001b[39mnext_v1()\n\u001b[1;32m   1192\u001b[0m \u001b[38;5;28;01melse\u001b[39;00m:\n\u001b[0;32m-> 1193\u001b[0m     \u001b[38;5;28;01mreturn\u001b[39;00m \u001b[38;5;28;43mself\u001b[39;49m\u001b[38;5;241;43m.\u001b[39;49m\u001b[43mnext_v2\u001b[49m\u001b[43m(\u001b[49m\u001b[43m)\u001b[49m\n",
      "File \u001b[0;32m/opt/conda/lib/python3.10/site-packages/kafka/consumer/group.py:1201\u001b[0m, in \u001b[0;36mKafkaConsumer.next_v2\u001b[0;34m(self)\u001b[0m\n\u001b[1;32m   1199\u001b[0m     \u001b[38;5;28mself\u001b[39m\u001b[38;5;241m.\u001b[39m_iterator \u001b[38;5;241m=\u001b[39m \u001b[38;5;28mself\u001b[39m\u001b[38;5;241m.\u001b[39m_message_generator_v2()\n\u001b[1;32m   1200\u001b[0m \u001b[38;5;28;01mtry\u001b[39;00m:\n\u001b[0;32m-> 1201\u001b[0m     \u001b[38;5;28;01mreturn\u001b[39;00m \u001b[38;5;28;43mnext\u001b[39;49m\u001b[43m(\u001b[49m\u001b[38;5;28;43mself\u001b[39;49m\u001b[38;5;241;43m.\u001b[39;49m\u001b[43m_iterator\u001b[49m\u001b[43m)\u001b[49m\n\u001b[1;32m   1202\u001b[0m \u001b[38;5;28;01mexcept\u001b[39;00m \u001b[38;5;167;01mStopIteration\u001b[39;00m:\n\u001b[1;32m   1203\u001b[0m     \u001b[38;5;28mself\u001b[39m\u001b[38;5;241m.\u001b[39m_iterator \u001b[38;5;241m=\u001b[39m \u001b[38;5;28;01mNone\u001b[39;00m\n",
      "File \u001b[0;32m/opt/conda/lib/python3.10/site-packages/kafka/consumer/group.py:1116\u001b[0m, in \u001b[0;36mKafkaConsumer._message_generator_v2\u001b[0;34m(self)\u001b[0m\n\u001b[1;32m   1114\u001b[0m \u001b[38;5;28;01mdef\u001b[39;00m \u001b[38;5;21m_message_generator_v2\u001b[39m(\u001b[38;5;28mself\u001b[39m):\n\u001b[1;32m   1115\u001b[0m     timeout_ms \u001b[38;5;241m=\u001b[39m \u001b[38;5;241m1000\u001b[39m \u001b[38;5;241m*\u001b[39m (\u001b[38;5;28mself\u001b[39m\u001b[38;5;241m.\u001b[39m_consumer_timeout \u001b[38;5;241m-\u001b[39m time\u001b[38;5;241m.\u001b[39mtime())\n\u001b[0;32m-> 1116\u001b[0m     record_map \u001b[38;5;241m=\u001b[39m \u001b[38;5;28;43mself\u001b[39;49m\u001b[38;5;241;43m.\u001b[39;49m\u001b[43mpoll\u001b[49m\u001b[43m(\u001b[49m\u001b[43mtimeout_ms\u001b[49m\u001b[38;5;241;43m=\u001b[39;49m\u001b[43mtimeout_ms\u001b[49m\u001b[43m,\u001b[49m\u001b[43m \u001b[49m\u001b[43mupdate_offsets\u001b[49m\u001b[38;5;241;43m=\u001b[39;49m\u001b[38;5;28;43;01mFalse\u001b[39;49;00m\u001b[43m)\u001b[49m\n\u001b[1;32m   1117\u001b[0m     \u001b[38;5;28;01mfor\u001b[39;00m tp, records \u001b[38;5;129;01min\u001b[39;00m six\u001b[38;5;241m.\u001b[39miteritems(record_map):\n\u001b[1;32m   1118\u001b[0m         \u001b[38;5;66;03m# Generators are stateful, and it is possible that the tp / records\u001b[39;00m\n\u001b[1;32m   1119\u001b[0m         \u001b[38;5;66;03m# here may become stale during iteration -- i.e., we seek to a\u001b[39;00m\n\u001b[1;32m   1120\u001b[0m         \u001b[38;5;66;03m# different offset, pause consumption, or lose assignment.\u001b[39;00m\n\u001b[1;32m   1121\u001b[0m         \u001b[38;5;28;01mfor\u001b[39;00m record \u001b[38;5;129;01min\u001b[39;00m records:\n\u001b[1;32m   1122\u001b[0m             \u001b[38;5;66;03m# is_fetchable(tp) should handle assignment changes and offset\u001b[39;00m\n\u001b[1;32m   1123\u001b[0m             \u001b[38;5;66;03m# resets; for all other changes (e.g., seeks) we'll rely on the\u001b[39;00m\n\u001b[1;32m   1124\u001b[0m             \u001b[38;5;66;03m# outer function destroying the existing iterator/generator\u001b[39;00m\n\u001b[1;32m   1125\u001b[0m             \u001b[38;5;66;03m# via self._iterator = None\u001b[39;00m\n",
      "File \u001b[0;32m/opt/conda/lib/python3.10/site-packages/kafka/consumer/group.py:655\u001b[0m, in \u001b[0;36mKafkaConsumer.poll\u001b[0;34m(self, timeout_ms, max_records, update_offsets)\u001b[0m\n\u001b[1;32m    653\u001b[0m remaining \u001b[38;5;241m=\u001b[39m timeout_ms\n\u001b[1;32m    654\u001b[0m \u001b[38;5;28;01mwhile\u001b[39;00m \u001b[38;5;28;01mTrue\u001b[39;00m:\n\u001b[0;32m--> 655\u001b[0m     records \u001b[38;5;241m=\u001b[39m \u001b[38;5;28;43mself\u001b[39;49m\u001b[38;5;241;43m.\u001b[39;49m\u001b[43m_poll_once\u001b[49m\u001b[43m(\u001b[49m\u001b[43mremaining\u001b[49m\u001b[43m,\u001b[49m\u001b[43m \u001b[49m\u001b[43mmax_records\u001b[49m\u001b[43m,\u001b[49m\u001b[43m \u001b[49m\u001b[43mupdate_offsets\u001b[49m\u001b[38;5;241;43m=\u001b[39;49m\u001b[43mupdate_offsets\u001b[49m\u001b[43m)\u001b[49m\n\u001b[1;32m    656\u001b[0m     \u001b[38;5;28;01mif\u001b[39;00m records:\n\u001b[1;32m    657\u001b[0m         \u001b[38;5;28;01mreturn\u001b[39;00m records\n",
      "File \u001b[0;32m/opt/conda/lib/python3.10/site-packages/kafka/consumer/group.py:702\u001b[0m, in \u001b[0;36mKafkaConsumer._poll_once\u001b[0;34m(self, timeout_ms, max_records, update_offsets)\u001b[0m\n\u001b[1;32m    699\u001b[0m     \u001b[38;5;28mself\u001b[39m\u001b[38;5;241m.\u001b[39m_client\u001b[38;5;241m.\u001b[39mpoll(timeout_ms\u001b[38;5;241m=\u001b[39m\u001b[38;5;241m0\u001b[39m)\n\u001b[1;32m    701\u001b[0m timeout_ms \u001b[38;5;241m=\u001b[39m \u001b[38;5;28mmin\u001b[39m(timeout_ms, \u001b[38;5;28mself\u001b[39m\u001b[38;5;241m.\u001b[39m_coordinator\u001b[38;5;241m.\u001b[39mtime_to_next_poll() \u001b[38;5;241m*\u001b[39m \u001b[38;5;241m1000\u001b[39m)\n\u001b[0;32m--> 702\u001b[0m \u001b[38;5;28;43mself\u001b[39;49m\u001b[38;5;241;43m.\u001b[39;49m\u001b[43m_client\u001b[49m\u001b[38;5;241;43m.\u001b[39;49m\u001b[43mpoll\u001b[49m\u001b[43m(\u001b[49m\u001b[43mtimeout_ms\u001b[49m\u001b[38;5;241;43m=\u001b[39;49m\u001b[43mtimeout_ms\u001b[49m\u001b[43m)\u001b[49m\n\u001b[1;32m    703\u001b[0m \u001b[38;5;66;03m# after the long poll, we should check whether the group needs to rebalance\u001b[39;00m\n\u001b[1;32m    704\u001b[0m \u001b[38;5;66;03m# prior to returning data so that the group can stabilize faster\u001b[39;00m\n\u001b[1;32m    705\u001b[0m \u001b[38;5;28;01mif\u001b[39;00m \u001b[38;5;28mself\u001b[39m\u001b[38;5;241m.\u001b[39m_coordinator\u001b[38;5;241m.\u001b[39mneed_rejoin():\n",
      "File \u001b[0;32m/opt/conda/lib/python3.10/site-packages/kafka/client_async.py:602\u001b[0m, in \u001b[0;36mKafkaClient.poll\u001b[0;34m(self, timeout_ms, future)\u001b[0m\n\u001b[1;32m    599\u001b[0m             timeout \u001b[38;5;241m=\u001b[39m \u001b[38;5;28mmin\u001b[39m(timeout, \u001b[38;5;28mself\u001b[39m\u001b[38;5;241m.\u001b[39mconfig[\u001b[38;5;124m'\u001b[39m\u001b[38;5;124mretry_backoff_ms\u001b[39m\u001b[38;5;124m'\u001b[39m])\n\u001b[1;32m    600\u001b[0m         timeout \u001b[38;5;241m=\u001b[39m \u001b[38;5;28mmax\u001b[39m(\u001b[38;5;241m0\u001b[39m, timeout)  \u001b[38;5;66;03m# avoid negative timeouts\u001b[39;00m\n\u001b[0;32m--> 602\u001b[0m     \u001b[38;5;28;43mself\u001b[39;49m\u001b[38;5;241;43m.\u001b[39;49m\u001b[43m_poll\u001b[49m\u001b[43m(\u001b[49m\u001b[43mtimeout\u001b[49m\u001b[43m \u001b[49m\u001b[38;5;241;43m/\u001b[39;49m\u001b[43m \u001b[49m\u001b[38;5;241;43m1000\u001b[39;49m\u001b[43m)\u001b[49m\n\u001b[1;32m    604\u001b[0m \u001b[38;5;66;03m# called without the lock to avoid deadlock potential\u001b[39;00m\n\u001b[1;32m    605\u001b[0m \u001b[38;5;66;03m# if handlers need to acquire locks\u001b[39;00m\n\u001b[1;32m    606\u001b[0m responses\u001b[38;5;241m.\u001b[39mextend(\u001b[38;5;28mself\u001b[39m\u001b[38;5;241m.\u001b[39m_fire_pending_completed_requests())\n",
      "File \u001b[0;32m/opt/conda/lib/python3.10/site-packages/kafka/client_async.py:634\u001b[0m, in \u001b[0;36mKafkaClient._poll\u001b[0;34m(self, timeout)\u001b[0m\n\u001b[1;32m    631\u001b[0m \u001b[38;5;28mself\u001b[39m\u001b[38;5;241m.\u001b[39m_register_send_sockets()\n\u001b[1;32m    633\u001b[0m start_select \u001b[38;5;241m=\u001b[39m time\u001b[38;5;241m.\u001b[39mtime()\n\u001b[0;32m--> 634\u001b[0m ready \u001b[38;5;241m=\u001b[39m \u001b[38;5;28;43mself\u001b[39;49m\u001b[38;5;241;43m.\u001b[39;49m\u001b[43m_selector\u001b[49m\u001b[38;5;241;43m.\u001b[39;49m\u001b[43mselect\u001b[49m\u001b[43m(\u001b[49m\u001b[43mtimeout\u001b[49m\u001b[43m)\u001b[49m\n\u001b[1;32m    635\u001b[0m end_select \u001b[38;5;241m=\u001b[39m time\u001b[38;5;241m.\u001b[39mtime()\n\u001b[1;32m    636\u001b[0m \u001b[38;5;28;01mif\u001b[39;00m \u001b[38;5;28mself\u001b[39m\u001b[38;5;241m.\u001b[39m_sensors:\n",
      "File \u001b[0;32m/opt/conda/lib/python3.10/selectors.py:469\u001b[0m, in \u001b[0;36mEpollSelector.select\u001b[0;34m(self, timeout)\u001b[0m\n\u001b[1;32m    467\u001b[0m ready \u001b[38;5;241m=\u001b[39m []\n\u001b[1;32m    468\u001b[0m \u001b[38;5;28;01mtry\u001b[39;00m:\n\u001b[0;32m--> 469\u001b[0m     fd_event_list \u001b[38;5;241m=\u001b[39m \u001b[38;5;28;43mself\u001b[39;49m\u001b[38;5;241;43m.\u001b[39;49m\u001b[43m_selector\u001b[49m\u001b[38;5;241;43m.\u001b[39;49m\u001b[43mpoll\u001b[49m\u001b[43m(\u001b[49m\u001b[43mtimeout\u001b[49m\u001b[43m,\u001b[49m\u001b[43m \u001b[49m\u001b[43mmax_ev\u001b[49m\u001b[43m)\u001b[49m\n\u001b[1;32m    470\u001b[0m \u001b[38;5;28;01mexcept\u001b[39;00m \u001b[38;5;167;01mInterruptedError\u001b[39;00m:\n\u001b[1;32m    471\u001b[0m     \u001b[38;5;28;01mreturn\u001b[39;00m ready\n",
      "\u001b[0;31mKeyboardInterrupt\u001b[0m: "
     ]
    }
   ],
   "source": [
    "for message in consumer:\n",
    "    print (\"%s:%d:%d: key=%s value=%s\" % (message.topic, message.partition,\n",
    "                                          message.offset, message.key,\n",
    "                                          message.value))"
   ]
  },
  {
   "cell_type": "code",
   "execution_count": null,
   "id": "3c285f74-9601-462e-bd4c-bbb5cfb59126",
   "metadata": {
    "tags": []
   },
   "outputs": [],
   "source": [
    "from kafka import TopicPartition\n",
    "\n",
    "consumer = KafkaConsumer(group_id='ajinusa-group',\n",
    "                         bootstrap_servers=[f'{kafka_host}:9092'],\n",
    "                         value_deserializer=lambda m: json.loads(m.decode('ascii')),\n",
    "                         auto_offset_reset='earliest',\n",
    "                         enable_auto_commit=False\n",
    "                        )\n",
    "consumer.assign([TopicPartition(kafka_topic_partition, 2)])"
   ]
  },
  {
   "cell_type": "code",
   "execution_count": null,
   "id": "4b0a6eba-f188-4d4f-ab12-f63685faf4f3",
   "metadata": {
    "tags": []
   },
   "outputs": [],
   "source": [
    "for message in consumer:\n",
    "    print (\"%s:%d:%d: key=%s value=%s\" % (message.topic, message.partition,\n",
    "                                          message.offset, message.key,\n",
    "                                          message.value))"
   ]
  },
  {
   "cell_type": "code",
   "execution_count": null,
   "id": "bb81528d-ed9f-48e2-9ce3-f0d27f8a26d0",
   "metadata": {
    "tags": []
   },
   "outputs": [],
   "source": [
    "consumer.seek_to_beginning()"
   ]
  },
  {
   "cell_type": "code",
   "execution_count": null,
   "id": "c2794306-ef7a-416b-8b70-22395b9ed83b",
   "metadata": {
    "tags": []
   },
   "outputs": [],
   "source": [
    "for message in consumer:\n",
    "    print (\"%s:%d:%d: key=%s value=%s\" % (message.topic, message.partition,\n",
    "                                          message.offset, message.key,\n",
    "                                          message.value))"
   ]
  },
  {
   "cell_type": "code",
   "execution_count": null,
   "id": "200ed1b4-a1bb-43ff-b16a-4f76cc7ce3f0",
   "metadata": {},
   "outputs": [],
   "source": []
  }
 ],
 "metadata": {
  "kernelspec": {
   "display_name": "Python 3 (ipykernel)",
   "language": "python",
   "name": "python3"
  },
  "language_info": {
   "codemirror_mode": {
    "name": "ipython",
    "version": 3
   },
   "file_extension": ".py",
   "mimetype": "text/x-python",
   "name": "python",
   "nbconvert_exporter": "python",
   "pygments_lexer": "ipython3",
   "version": "3.10.10"
  }
 },
 "nbformat": 4,
 "nbformat_minor": 5
}
