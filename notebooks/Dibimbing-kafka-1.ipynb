{
 "cells": [
  {
   "cell_type": "code",
   "execution_count": 13,
   "id": "25846da4-c6b2-46a5-b7d1-9809732bb1b9",
   "metadata": {
    "tags": []
   },
   "outputs": [],
   "source": [
    "import json\n",
    "import uuid\n",
    "import os\n",
    "import json\n",
    "from dotenv import load_dotenv\n",
    "from pathlib import Path\n",
    "from kafka import KafkaProducer\n",
    "from faker import Faker\n",
    "from time import sleep"
   ]
  },
  {
   "cell_type": "code",
   "execution_count": 14,
   "id": "42f97822-c06f-47e0-a0a4-87a7bf1d95a9",
   "metadata": {
    "tags": []
   },
   "outputs": [
    {
     "data": {
      "text/plain": [
       "True"
      ]
     },
     "execution_count": 14,
     "metadata": {},
     "output_type": "execute_result"
    }
   ],
   "source": [
    "dotenv_path = Path('/resources/.env')\n",
    "load_dotenv(dotenv_path=dotenv_path)\n",
    "# load_dotenv(override=True)"
   ]
  },
  {
   "cell_type": "code",
   "execution_count": 15,
   "id": "3f89f5a9-8c75-4a38-b48d-ad72c6a13c41",
   "metadata": {
    "tags": []
   },
   "outputs": [],
   "source": [
    "kafka_host = os.getenv('KAFKA_HOST')\n",
    "kafka_topic = os.getenv('KAFKA_TOPIC_NAME')\n",
    "kafka_topic_partition = os.getenv('KAFKA_TOPIC_NAME')+\"-1\"\n",
    "# kafka_topic_partition = \"dibimbing_batch_6\""
   ]
  },
  {
   "cell_type": "code",
   "execution_count": 16,
   "id": "a4a59d22-69c5-4e0a-b1e2-d0d77867c45b",
   "metadata": {
    "tags": []
   },
   "outputs": [
    {
     "name": "stdout",
     "output_type": "stream",
     "text": [
      "dataeng-kafka\n",
      "penjualan-obat\n",
      "penjualan-obat-1\n",
      "/resources/.env\n",
      "penjualan-obat\n"
     ]
    }
   ],
   "source": [
    "print(kafka_host)\n",
    "print(kafka_topic)\n",
    "print(kafka_topic_partition)\n",
    "print(dotenv_path)\n",
    "print(os.environ.get('KAFKA_TOPIC_NAME'))"
   ]
  },
  {
   "cell_type": "code",
   "execution_count": 17,
   "id": "8515096d-3bc6-4905-98f5-eb1e6d7bfa4c",
   "metadata": {
    "tags": []
   },
   "outputs": [],
   "source": [
    "producer = KafkaProducer(bootstrap_servers=f'{kafka_host}:9092')"
   ]
  },
  {
   "cell_type": "code",
   "execution_count": 18,
   "id": "78075b5c-08c8-4c43-99a1-0689a87414c4",
   "metadata": {
    "tags": []
   },
   "outputs": [],
   "source": [
    "_instance = Faker()\n",
    "global faker\n",
    "faker = Faker()"
   ]
  },
  {
   "cell_type": "code",
   "execution_count": 19,
   "id": "503ade79-0f77-4970-8e04-ecefce397398",
   "metadata": {
    "tags": []
   },
   "outputs": [],
   "source": [
    "# class DataGenerator(object):\n",
    "#     @staticmethod\n",
    "#     def get_data():\n",
    "#         return [\n",
    "#                 uuid.uuid4().__str__(),\n",
    "#                 faker.name(),\n",
    "#                 faker.random_element(elements=('IT', 'HR', 'Sales', 'Marketing')),\n",
    "#                 faker.random_element(elements=('CA', 'NY', 'TX', 'FL', 'IL', 'RJ')),\n",
    "#                 faker.random_int(min=10000, max=150000),\n",
    "#                 faker.random_int(min=18, max=60),\n",
    "#                 faker.random_int(min=0, max=100000),\n",
    "#                 faker.unix_time()\n",
    "#         ]\n",
    "\n",
    "# for i in range(1,400):\n",
    "#     columns =  [\"emp_id\", \"employee_name\", \"department\", \"state\", \"salary\", \"age\", \"bonus\", \"ts\", \"new\"]\n",
    "#     data_list = DataGenerator.get_data()\n",
    "#     json_data = dict(\n",
    "#         zip(columns,data_list)\n",
    "#     )\n",
    "#     _payload = json.dumps(json_data).encode(\"utf-8\")\n",
    "#     response = producer.send(topic=kafka_topic_partition, value=_payload)\n",
    "#     # response = producer.send(topic=kafka_topic_partition, value=_payload, partition=2)\n",
    "#     print(json_data['emp_id'],response.get())\n",
    "#     # print(_payload)\n",
    "#     sleep(5)"
   ]
  },
  {
   "cell_type": "code",
   "execution_count": null,
   "id": "be1f121f-6f90-441c-a027-c095f5903ac9",
   "metadata": {
    "tags": []
   },
   "outputs": [
    {
     "name": "stdout",
     "output_type": "stream",
     "text": [
      "95fe3ca2-be4c-40a4-827b-75d013fe1262 RecordMetadata(topic='penjualan-obat-1', partition=0, topic_partition=TopicPartition(topic='penjualan-obat-1', partition=0), offset=0, timestamp=1737379606752, log_start_offset=0, checksum=None, serialized_key_size=-1, serialized_value_size=276, serialized_header_size=-1)\n",
      "5b626ac8-4fe0-4531-809e-2ebb0540ce59 RecordMetadata(topic='penjualan-obat-1', partition=0, topic_partition=TopicPartition(topic='penjualan-obat-1', partition=0), offset=1, timestamp=1737379611789, log_start_offset=0, checksum=None, serialized_key_size=-1, serialized_value_size=282, serialized_header_size=-1)\n",
      "2bbe4063-7577-49b1-81e6-1440619bf48a RecordMetadata(topic='penjualan-obat-1', partition=0, topic_partition=TopicPartition(topic='penjualan-obat-1', partition=0), offset=2, timestamp=1737379616715, log_start_offset=0, checksum=None, serialized_key_size=-1, serialized_value_size=278, serialized_header_size=-1)\n",
      "0b2833b1-702a-4c60-b6ab-5e403118d5cb RecordMetadata(topic='penjualan-obat-1', partition=0, topic_partition=TopicPartition(topic='penjualan-obat-1', partition=0), offset=3, timestamp=1737379621724, log_start_offset=0, checksum=None, serialized_key_size=-1, serialized_value_size=276, serialized_header_size=-1)\n",
      "eb32d65d-1b08-444c-a0a9-a0bf24c8b97c RecordMetadata(topic='penjualan-obat-1', partition=0, topic_partition=TopicPartition(topic='penjualan-obat-1', partition=0), offset=4, timestamp=1737379626734, log_start_offset=0, checksum=None, serialized_key_size=-1, serialized_value_size=281, serialized_header_size=-1)\n",
      "b6206859-c063-432c-8566-327c6d25c2a8 RecordMetadata(topic='penjualan-obat-1', partition=0, topic_partition=TopicPartition(topic='penjualan-obat-1', partition=0), offset=5, timestamp=1737379631744, log_start_offset=0, checksum=None, serialized_key_size=-1, serialized_value_size=274, serialized_header_size=-1)\n",
      "34910d34-5b1d-4893-8f3a-3f630ecf9b60 RecordMetadata(topic='penjualan-obat-1', partition=0, topic_partition=TopicPartition(topic='penjualan-obat-1', partition=0), offset=6, timestamp=1737379636751, log_start_offset=0, checksum=None, serialized_key_size=-1, serialized_value_size=279, serialized_header_size=-1)\n",
      "f40ea773-c562-42cc-bab3-d62a713361eb RecordMetadata(topic='penjualan-obat-1', partition=0, topic_partition=TopicPartition(topic='penjualan-obat-1', partition=0), offset=7, timestamp=1737379641762, log_start_offset=0, checksum=None, serialized_key_size=-1, serialized_value_size=275, serialized_header_size=-1)\n",
      "b1b39412-6a16-407d-9c2d-3a1b6dee77b7 RecordMetadata(topic='penjualan-obat-1', partition=0, topic_partition=TopicPartition(topic='penjualan-obat-1', partition=0), offset=8, timestamp=1737379646669, log_start_offset=0, checksum=None, serialized_key_size=-1, serialized_value_size=272, serialized_header_size=-1)\n",
      "f6d26f89-95e0-4b12-a826-733a0d421887 RecordMetadata(topic='penjualan-obat-1', partition=0, topic_partition=TopicPartition(topic='penjualan-obat-1', partition=0), offset=9, timestamp=1737379651680, log_start_offset=0, checksum=None, serialized_key_size=-1, serialized_value_size=279, serialized_header_size=-1)\n",
      "9f1d0df8-c30f-40f6-b147-35b6bb04af95 RecordMetadata(topic='penjualan-obat-1', partition=0, topic_partition=TopicPartition(topic='penjualan-obat-1', partition=0), offset=10, timestamp=1737379656690, log_start_offset=0, checksum=None, serialized_key_size=-1, serialized_value_size=283, serialized_header_size=-1)\n",
      "9b989c8f-c42a-4e88-8ec3-86dcb7ac12f7 RecordMetadata(topic='penjualan-obat-1', partition=0, topic_partition=TopicPartition(topic='penjualan-obat-1', partition=0), offset=11, timestamp=1737379661702, log_start_offset=0, checksum=None, serialized_key_size=-1, serialized_value_size=270, serialized_header_size=-1)\n",
      "77350347-c7c2-439e-be12-40a5ee9f5e9b RecordMetadata(topic='penjualan-obat-1', partition=0, topic_partition=TopicPartition(topic='penjualan-obat-1', partition=0), offset=12, timestamp=1737379666711, log_start_offset=0, checksum=None, serialized_key_size=-1, serialized_value_size=269, serialized_header_size=-1)\n",
      "2be7d8de-0584-43b2-9281-25e9defac4b7 RecordMetadata(topic='penjualan-obat-1', partition=0, topic_partition=TopicPartition(topic='penjualan-obat-1', partition=0), offset=13, timestamp=1737379671721, log_start_offset=0, checksum=None, serialized_key_size=-1, serialized_value_size=280, serialized_header_size=-1)\n",
      "8809cf4b-b95d-4b22-8279-dd1240aaed26 RecordMetadata(topic='penjualan-obat-1', partition=0, topic_partition=TopicPartition(topic='penjualan-obat-1', partition=0), offset=14, timestamp=1737379676635, log_start_offset=0, checksum=None, serialized_key_size=-1, serialized_value_size=273, serialized_header_size=-1)\n",
      "9ef2405a-8d78-4053-8c6c-e79104ca316f RecordMetadata(topic='penjualan-obat-1', partition=0, topic_partition=TopicPartition(topic='penjualan-obat-1', partition=0), offset=15, timestamp=1737379681656, log_start_offset=0, checksum=None, serialized_key_size=-1, serialized_value_size=278, serialized_header_size=-1)\n",
      "b89e6b20-f216-4918-ab60-83fbb74faa81 RecordMetadata(topic='penjualan-obat-1', partition=0, topic_partition=TopicPartition(topic='penjualan-obat-1', partition=0), offset=16, timestamp=1737379686668, log_start_offset=0, checksum=None, serialized_key_size=-1, serialized_value_size=281, serialized_header_size=-1)\n",
      "4fab12f8-59bf-42d0-9f16-276e4b0f62e8 RecordMetadata(topic='penjualan-obat-1', partition=0, topic_partition=TopicPartition(topic='penjualan-obat-1', partition=0), offset=17, timestamp=1737379691679, log_start_offset=0, checksum=None, serialized_key_size=-1, serialized_value_size=270, serialized_header_size=-1)\n",
      "057eadcc-61c7-42fe-8aee-29a7aec716de RecordMetadata(topic='penjualan-obat-1', partition=0, topic_partition=TopicPartition(topic='penjualan-obat-1', partition=0), offset=18, timestamp=1737379696689, log_start_offset=0, checksum=None, serialized_key_size=-1, serialized_value_size=287, serialized_header_size=-1)\n",
      "2e6f65a4-4987-4a43-8698-0463dcd2bd0d RecordMetadata(topic='penjualan-obat-1', partition=0, topic_partition=TopicPartition(topic='penjualan-obat-1', partition=0), offset=19, timestamp=1737379701699, log_start_offset=0, checksum=None, serialized_key_size=-1, serialized_value_size=276, serialized_header_size=-1)\n",
      "946e1de7-1b7c-494e-90bc-f9f1b2fe7aed RecordMetadata(topic='penjualan-obat-1', partition=0, topic_partition=TopicPartition(topic='penjualan-obat-1', partition=0), offset=20, timestamp=1737379706611, log_start_offset=0, checksum=None, serialized_key_size=-1, serialized_value_size=278, serialized_header_size=-1)\n",
      "23b914c2-7d6a-4875-bc3d-041fbeab6120 RecordMetadata(topic='penjualan-obat-1', partition=0, topic_partition=TopicPartition(topic='penjualan-obat-1', partition=0), offset=21, timestamp=1737379711620, log_start_offset=0, checksum=None, serialized_key_size=-1, serialized_value_size=268, serialized_header_size=-1)\n",
      "7aa66ac1-193d-4819-80ba-d869b85ec6ba RecordMetadata(topic='penjualan-obat-1', partition=0, topic_partition=TopicPartition(topic='penjualan-obat-1', partition=0), offset=22, timestamp=1737379716630, log_start_offset=0, checksum=None, serialized_key_size=-1, serialized_value_size=276, serialized_header_size=-1)\n",
      "49dab147-a9f4-4a65-90ac-5280de40f0cd RecordMetadata(topic='penjualan-obat-1', partition=0, topic_partition=TopicPartition(topic='penjualan-obat-1', partition=0), offset=23, timestamp=1737379721639, log_start_offset=0, checksum=None, serialized_key_size=-1, serialized_value_size=280, serialized_header_size=-1)\n",
      "60ad11d6-b5b6-4079-b214-aa3432b5681c RecordMetadata(topic='penjualan-obat-1', partition=0, topic_partition=TopicPartition(topic='penjualan-obat-1', partition=0), offset=24, timestamp=1737379726648, log_start_offset=0, checksum=None, serialized_key_size=-1, serialized_value_size=277, serialized_header_size=-1)\n",
      "63f32a42-ab62-49e6-92fc-0c5bf87d4d37 RecordMetadata(topic='penjualan-obat-1', partition=0, topic_partition=TopicPartition(topic='penjualan-obat-1', partition=0), offset=25, timestamp=1737379731657, log_start_offset=0, checksum=None, serialized_key_size=-1, serialized_value_size=274, serialized_header_size=-1)\n",
      "4ba99800-64e5-4ce8-bf42-bf439573221e RecordMetadata(topic='penjualan-obat-1', partition=0, topic_partition=TopicPartition(topic='penjualan-obat-1', partition=0), offset=26, timestamp=1737379736646, log_start_offset=0, checksum=None, serialized_key_size=-1, serialized_value_size=278, serialized_header_size=-1)\n",
      "a494e589-18c1-4a9f-90cc-8aaeff1edf6b RecordMetadata(topic='penjualan-obat-1', partition=0, topic_partition=TopicPartition(topic='penjualan-obat-1', partition=0), offset=27, timestamp=1737379741655, log_start_offset=0, checksum=None, serialized_key_size=-1, serialized_value_size=278, serialized_header_size=-1)\n",
      "9450037d-7c9b-437a-9823-5eb6002805dc RecordMetadata(topic='penjualan-obat-1', partition=0, topic_partition=TopicPartition(topic='penjualan-obat-1', partition=0), offset=28, timestamp=1737379746665, log_start_offset=0, checksum=None, serialized_key_size=-1, serialized_value_size=281, serialized_header_size=-1)\n",
      "f5ee7348-2411-444b-815c-b8ef68921502 RecordMetadata(topic='penjualan-obat-1', partition=0, topic_partition=TopicPartition(topic='penjualan-obat-1', partition=0), offset=29, timestamp=1737379751676, log_start_offset=0, checksum=None, serialized_key_size=-1, serialized_value_size=269, serialized_header_size=-1)\n",
      "c903b0b3-0a91-4d75-8309-52238e645788 RecordMetadata(topic='penjualan-obat-1', partition=0, topic_partition=TopicPartition(topic='penjualan-obat-1', partition=0), offset=30, timestamp=1737379756686, log_start_offset=0, checksum=None, serialized_key_size=-1, serialized_value_size=269, serialized_header_size=-1)\n",
      "043d3e9e-3034-4bd2-a3ed-f7d377c58a59 RecordMetadata(topic='penjualan-obat-1', partition=0, topic_partition=TopicPartition(topic='penjualan-obat-1', partition=0), offset=31, timestamp=1737379761695, log_start_offset=0, checksum=None, serialized_key_size=-1, serialized_value_size=280, serialized_header_size=-1)\n",
      "5788f265-826a-407b-84c7-7e22b1ebe230 RecordMetadata(topic='penjualan-obat-1', partition=0, topic_partition=TopicPartition(topic='penjualan-obat-1', partition=0), offset=32, timestamp=1737379766579, log_start_offset=0, checksum=None, serialized_key_size=-1, serialized_value_size=276, serialized_header_size=-1)\n",
      "11b3baa2-c7bc-4a8a-8732-354f4eff51fd RecordMetadata(topic='penjualan-obat-1', partition=0, topic_partition=TopicPartition(topic='penjualan-obat-1', partition=0), offset=33, timestamp=1737379771589, log_start_offset=0, checksum=None, serialized_key_size=-1, serialized_value_size=277, serialized_header_size=-1)\n",
      "6bbdd53c-62b7-4cc1-8956-032c7f395b64 RecordMetadata(topic='penjualan-obat-1', partition=0, topic_partition=TopicPartition(topic='penjualan-obat-1', partition=0), offset=34, timestamp=1737379776598, log_start_offset=0, checksum=None, serialized_key_size=-1, serialized_value_size=278, serialized_header_size=-1)\n",
      "9a9d3b19-7537-45d6-bf05-e0d777bee042 RecordMetadata(topic='penjualan-obat-1', partition=0, topic_partition=TopicPartition(topic='penjualan-obat-1', partition=0), offset=35, timestamp=1737379781606, log_start_offset=0, checksum=None, serialized_key_size=-1, serialized_value_size=279, serialized_header_size=-1)\n",
      "017b5d68-fa33-477c-bba0-b2d3bac0c1eb RecordMetadata(topic='penjualan-obat-1', partition=0, topic_partition=TopicPartition(topic='penjualan-obat-1', partition=0), offset=36, timestamp=1737379786627, log_start_offset=0, checksum=None, serialized_key_size=-1, serialized_value_size=275, serialized_header_size=-1)\n",
      "5d3a15db-bdaa-4f78-a557-14194e7aa7b2 RecordMetadata(topic='penjualan-obat-1', partition=0, topic_partition=TopicPartition(topic='penjualan-obat-1', partition=0), offset=37, timestamp=1737379791638, log_start_offset=0, checksum=None, serialized_key_size=-1, serialized_value_size=279, serialized_header_size=-1)\n",
      "f47b45ac-2b80-4c2f-b65d-7887f942df6e RecordMetadata(topic='penjualan-obat-1', partition=0, topic_partition=TopicPartition(topic='penjualan-obat-1', partition=0), offset=38, timestamp=1737379796572, log_start_offset=0, checksum=None, serialized_key_size=-1, serialized_value_size=280, serialized_header_size=-1)\n",
      "6f345ef1-4f10-41b9-8837-20dc96204329 RecordMetadata(topic='penjualan-obat-1', partition=0, topic_partition=TopicPartition(topic='penjualan-obat-1', partition=0), offset=39, timestamp=1737379801582, log_start_offset=0, checksum=None, serialized_key_size=-1, serialized_value_size=273, serialized_header_size=-1)\n",
      "29151a0c-383e-48db-a5b7-a3d2ba570074 RecordMetadata(topic='penjualan-obat-1', partition=0, topic_partition=TopicPartition(topic='penjualan-obat-1', partition=0), offset=40, timestamp=1737379806593, log_start_offset=0, checksum=None, serialized_key_size=-1, serialized_value_size=283, serialized_header_size=-1)\n",
      "00e0e355-cbac-467d-b7cb-af8449b4fc50 RecordMetadata(topic='penjualan-obat-1', partition=0, topic_partition=TopicPartition(topic='penjualan-obat-1', partition=0), offset=41, timestamp=1737379811604, log_start_offset=0, checksum=None, serialized_key_size=-1, serialized_value_size=280, serialized_header_size=-1)\n",
      "4f16b7db-2038-4f2f-b5f8-029bacfc0d52 RecordMetadata(topic='penjualan-obat-1', partition=0, topic_partition=TopicPartition(topic='penjualan-obat-1', partition=0), offset=42, timestamp=1737379816610, log_start_offset=0, checksum=None, serialized_key_size=-1, serialized_value_size=276, serialized_header_size=-1)\n",
      "0709edc5-51d0-4da0-a420-bf6d0f270138 RecordMetadata(topic='penjualan-obat-1', partition=0, topic_partition=TopicPartition(topic='penjualan-obat-1', partition=0), offset=43, timestamp=1737379821621, log_start_offset=0, checksum=None, serialized_key_size=-1, serialized_value_size=272, serialized_header_size=-1)\n",
      "b4772556-5c5e-4370-9e85-cc5a919631cd RecordMetadata(topic='penjualan-obat-1', partition=0, topic_partition=TopicPartition(topic='penjualan-obat-1', partition=0), offset=44, timestamp=1737379826495, log_start_offset=0, checksum=None, serialized_key_size=-1, serialized_value_size=279, serialized_header_size=-1)\n",
      "91529d17-57e1-42ae-a1c6-37dee66f4910 RecordMetadata(topic='penjualan-obat-1', partition=0, topic_partition=TopicPartition(topic='penjualan-obat-1', partition=0), offset=45, timestamp=1737379831504, log_start_offset=0, checksum=None, serialized_key_size=-1, serialized_value_size=272, serialized_header_size=-1)\n",
      "cdc81b0c-7983-4197-ac5e-2b1da51620a5 RecordMetadata(topic='penjualan-obat-1', partition=0, topic_partition=TopicPartition(topic='penjualan-obat-1', partition=0), offset=46, timestamp=1737379836512, log_start_offset=0, checksum=None, serialized_key_size=-1, serialized_value_size=274, serialized_header_size=-1)\n",
      "f6892129-59fd-40ce-a400-c8d90b7417b2 RecordMetadata(topic='penjualan-obat-1', partition=0, topic_partition=TopicPartition(topic='penjualan-obat-1', partition=0), offset=47, timestamp=1737379841517, log_start_offset=0, checksum=None, serialized_key_size=-1, serialized_value_size=269, serialized_header_size=-1)\n",
      "805d3088-955a-4ef4-9902-ff6d40bfdcab RecordMetadata(topic='penjualan-obat-1', partition=0, topic_partition=TopicPartition(topic='penjualan-obat-1', partition=0), offset=48, timestamp=1737379846527, log_start_offset=0, checksum=None, serialized_key_size=-1, serialized_value_size=282, serialized_header_size=-1)\n",
      "9e906229-d5fa-4c11-b645-47223e439dfa RecordMetadata(topic='penjualan-obat-1', partition=0, topic_partition=TopicPartition(topic='penjualan-obat-1', partition=0), offset=49, timestamp=1737379851536, log_start_offset=0, checksum=None, serialized_key_size=-1, serialized_value_size=281, serialized_header_size=-1)\n",
      "18858164-76ae-4632-82e8-cefd0f5d17fd RecordMetadata(topic='penjualan-obat-1', partition=0, topic_partition=TopicPartition(topic='penjualan-obat-1', partition=0), offset=50, timestamp=1737379856466, log_start_offset=0, checksum=None, serialized_key_size=-1, serialized_value_size=270, serialized_header_size=-1)\n",
      "4007ce8a-6134-4be0-a3b4-96774a661a39 RecordMetadata(topic='penjualan-obat-1', partition=0, topic_partition=TopicPartition(topic='penjualan-obat-1', partition=0), offset=51, timestamp=1737379861478, log_start_offset=0, checksum=None, serialized_key_size=-1, serialized_value_size=276, serialized_header_size=-1)\n",
      "6ab2f138-2687-4fd1-8611-852ebee349a2 RecordMetadata(topic='penjualan-obat-1', partition=0, topic_partition=TopicPartition(topic='penjualan-obat-1', partition=0), offset=52, timestamp=1737379866488, log_start_offset=0, checksum=None, serialized_key_size=-1, serialized_value_size=282, serialized_header_size=-1)\n",
      "4d89e456-7d26-4f82-8c7b-c5926f938ba4 RecordMetadata(topic='penjualan-obat-1', partition=0, topic_partition=TopicPartition(topic='penjualan-obat-1', partition=0), offset=53, timestamp=1737379871498, log_start_offset=0, checksum=None, serialized_key_size=-1, serialized_value_size=280, serialized_header_size=-1)\n",
      "71924ea5-4453-4c18-8c0b-65c65f4fc752 RecordMetadata(topic='penjualan-obat-1', partition=0, topic_partition=TopicPartition(topic='penjualan-obat-1', partition=0), offset=54, timestamp=1737379876521, log_start_offset=0, checksum=None, serialized_key_size=-1, serialized_value_size=278, serialized_header_size=-1)\n",
      "801ee634-3822-4436-9fa8-7545a1ba140b RecordMetadata(topic='penjualan-obat-1', partition=0, topic_partition=TopicPartition(topic='penjualan-obat-1', partition=0), offset=55, timestamp=1737379881532, log_start_offset=0, checksum=None, serialized_key_size=-1, serialized_value_size=284, serialized_header_size=-1)\n",
      "b8259ba3-638f-4ca6-b8c1-8fcc37478b1e RecordMetadata(topic='penjualan-obat-1', partition=0, topic_partition=TopicPartition(topic='penjualan-obat-1', partition=0), offset=56, timestamp=1737379886449, log_start_offset=0, checksum=None, serialized_key_size=-1, serialized_value_size=269, serialized_header_size=-1)\n",
      "6ec1d9fb-b97d-46d1-bbd6-04376d7d0451 RecordMetadata(topic='penjualan-obat-1', partition=0, topic_partition=TopicPartition(topic='penjualan-obat-1', partition=0), offset=57, timestamp=1737379891455, log_start_offset=0, checksum=None, serialized_key_size=-1, serialized_value_size=278, serialized_header_size=-1)\n",
      "acc53cf0-112c-402b-9c93-2a82006eed95 RecordMetadata(topic='penjualan-obat-1', partition=0, topic_partition=TopicPartition(topic='penjualan-obat-1', partition=0), offset=58, timestamp=1737379896466, log_start_offset=0, checksum=None, serialized_key_size=-1, serialized_value_size=276, serialized_header_size=-1)\n",
      "80884acf-85ab-4855-bd62-22500f09631c RecordMetadata(topic='penjualan-obat-1', partition=0, topic_partition=TopicPartition(topic='penjualan-obat-1', partition=0), offset=59, timestamp=1737379901478, log_start_offset=0, checksum=None, serialized_key_size=-1, serialized_value_size=276, serialized_header_size=-1)\n",
      "c32cd169-2eda-4f75-8837-01c4c9cdb76d RecordMetadata(topic='penjualan-obat-1', partition=0, topic_partition=TopicPartition(topic='penjualan-obat-1', partition=0), offset=60, timestamp=1737379906487, log_start_offset=0, checksum=None, serialized_key_size=-1, serialized_value_size=266, serialized_header_size=-1)\n",
      "78ddc47a-6516-4746-bedf-57ea55e361b0 RecordMetadata(topic='penjualan-obat-1', partition=0, topic_partition=TopicPartition(topic='penjualan-obat-1', partition=0), offset=61, timestamp=1737379911496, log_start_offset=0, checksum=None, serialized_key_size=-1, serialized_value_size=276, serialized_header_size=-1)\n",
      "5ac645d6-161f-4786-9ce5-f02e5edee20f RecordMetadata(topic='penjualan-obat-1', partition=0, topic_partition=TopicPartition(topic='penjualan-obat-1', partition=0), offset=62, timestamp=1737379916411, log_start_offset=0, checksum=None, serialized_key_size=-1, serialized_value_size=271, serialized_header_size=-1)\n",
      "f5e55b3e-c2cf-4f6e-ad0b-71d9b97230bf RecordMetadata(topic='penjualan-obat-1', partition=0, topic_partition=TopicPartition(topic='penjualan-obat-1', partition=0), offset=63, timestamp=1737379921420, log_start_offset=0, checksum=None, serialized_key_size=-1, serialized_value_size=271, serialized_header_size=-1)\n",
      "ed69c265-2c2d-4766-99a2-1795d10d2bd4 RecordMetadata(topic='penjualan-obat-1', partition=0, topic_partition=TopicPartition(topic='penjualan-obat-1', partition=0), offset=64, timestamp=1737379926431, log_start_offset=0, checksum=None, serialized_key_size=-1, serialized_value_size=276, serialized_header_size=-1)\n",
      "ea7a0407-59d7-4ee7-9eb0-ddfb0742d40b RecordMetadata(topic='penjualan-obat-1', partition=0, topic_partition=TopicPartition(topic='penjualan-obat-1', partition=0), offset=65, timestamp=1737379931442, log_start_offset=0, checksum=None, serialized_key_size=-1, serialized_value_size=269, serialized_header_size=-1)\n",
      "3b7885b2-9958-4c65-85c5-1d210f638038 RecordMetadata(topic='penjualan-obat-1', partition=0, topic_partition=TopicPartition(topic='penjualan-obat-1', partition=0), offset=66, timestamp=1737379936453, log_start_offset=0, checksum=None, serialized_key_size=-1, serialized_value_size=271, serialized_header_size=-1)\n",
      "4abd9fcc-519d-4d7d-9269-178c0c5fdd40 RecordMetadata(topic='penjualan-obat-1', partition=0, topic_partition=TopicPartition(topic='penjualan-obat-1', partition=0), offset=67, timestamp=1737379941465, log_start_offset=0, checksum=None, serialized_key_size=-1, serialized_value_size=269, serialized_header_size=-1)\n",
      "cc5ab68f-6134-4763-90de-e6335da770bf RecordMetadata(topic='penjualan-obat-1', partition=0, topic_partition=TopicPartition(topic='penjualan-obat-1', partition=0), offset=68, timestamp=1737379946371, log_start_offset=0, checksum=None, serialized_key_size=-1, serialized_value_size=276, serialized_header_size=-1)\n",
      "332152d0-11d6-44db-ba1a-ea2fea99c6a8 RecordMetadata(topic='penjualan-obat-1', partition=0, topic_partition=TopicPartition(topic='penjualan-obat-1', partition=0), offset=69, timestamp=1737379951380, log_start_offset=0, checksum=None, serialized_key_size=-1, serialized_value_size=273, serialized_header_size=-1)\n",
      "d5de9221-f62a-4d45-af9f-58db46d58e97 RecordMetadata(topic='penjualan-obat-1', partition=0, topic_partition=TopicPartition(topic='penjualan-obat-1', partition=0), offset=70, timestamp=1737379956392, log_start_offset=0, checksum=None, serialized_key_size=-1, serialized_value_size=274, serialized_header_size=-1)\n",
      "2d9898ed-b557-4361-960c-fbde454c3a09 RecordMetadata(topic='penjualan-obat-1', partition=0, topic_partition=TopicPartition(topic='penjualan-obat-1', partition=0), offset=71, timestamp=1737379961402, log_start_offset=0, checksum=None, serialized_key_size=-1, serialized_value_size=270, serialized_header_size=-1)\n",
      "369daf38-f658-4081-b0ac-0b31c0d62e74 RecordMetadata(topic='penjualan-obat-1', partition=0, topic_partition=TopicPartition(topic='penjualan-obat-1', partition=0), offset=72, timestamp=1737379966411, log_start_offset=0, checksum=None, serialized_key_size=-1, serialized_value_size=269, serialized_header_size=-1)\n",
      "105e812b-3070-48a7-8601-b42d574bd6db RecordMetadata(topic='penjualan-obat-1', partition=0, topic_partition=TopicPartition(topic='penjualan-obat-1', partition=0), offset=73, timestamp=1737379971421, log_start_offset=0, checksum=None, serialized_key_size=-1, serialized_value_size=280, serialized_header_size=-1)\n",
      "181fb18b-9145-4693-8d2d-6811268f6d03 RecordMetadata(topic='penjualan-obat-1', partition=0, topic_partition=TopicPartition(topic='penjualan-obat-1', partition=0), offset=74, timestamp=1737379976327, log_start_offset=0, checksum=None, serialized_key_size=-1, serialized_value_size=279, serialized_header_size=-1)\n",
      "9409a4a5-0a03-422f-9a47-fd087e7417fc RecordMetadata(topic='penjualan-obat-1', partition=0, topic_partition=TopicPartition(topic='penjualan-obat-1', partition=0), offset=75, timestamp=1737379981338, log_start_offset=0, checksum=None, serialized_key_size=-1, serialized_value_size=272, serialized_header_size=-1)\n",
      "7c2298c3-2c88-4eb1-80a5-c389428c47c8 RecordMetadata(topic='penjualan-obat-1', partition=0, topic_partition=TopicPartition(topic='penjualan-obat-1', partition=0), offset=76, timestamp=1737379986348, log_start_offset=0, checksum=None, serialized_key_size=-1, serialized_value_size=277, serialized_header_size=-1)\n",
      "d3556b34-ab90-4472-90c2-f6dae3f13b31 RecordMetadata(topic='penjualan-obat-1', partition=0, topic_partition=TopicPartition(topic='penjualan-obat-1', partition=0), offset=77, timestamp=1737379991358, log_start_offset=0, checksum=None, serialized_key_size=-1, serialized_value_size=283, serialized_header_size=-1)\n",
      "53499d46-257a-41e9-a4f3-a93e48db20e5 RecordMetadata(topic='penjualan-obat-1', partition=0, topic_partition=TopicPartition(topic='penjualan-obat-1', partition=0), offset=78, timestamp=1737379996368, log_start_offset=0, checksum=None, serialized_key_size=-1, serialized_value_size=276, serialized_header_size=-1)\n",
      "788cc7e6-f762-4d7e-b6ce-bd3a1ca54ac7 RecordMetadata(topic='penjualan-obat-1', partition=0, topic_partition=TopicPartition(topic='penjualan-obat-1', partition=0), offset=79, timestamp=1737380001378, log_start_offset=0, checksum=None, serialized_key_size=-1, serialized_value_size=278, serialized_header_size=-1)\n",
      "ba6da506-fd7b-49fe-89b7-3726b325dfe0 RecordMetadata(topic='penjualan-obat-1', partition=0, topic_partition=TopicPartition(topic='penjualan-obat-1', partition=0), offset=80, timestamp=1737380006287, log_start_offset=0, checksum=None, serialized_key_size=-1, serialized_value_size=275, serialized_header_size=-1)\n",
      "f773c219-4e0e-4008-b433-9bf495a1237a RecordMetadata(topic='penjualan-obat-1', partition=0, topic_partition=TopicPartition(topic='penjualan-obat-1', partition=0), offset=81, timestamp=1737380011299, log_start_offset=0, checksum=None, serialized_key_size=-1, serialized_value_size=286, serialized_header_size=-1)\n",
      "89281bf4-755d-40ee-8e6b-7d2cd051369b RecordMetadata(topic='penjualan-obat-1', partition=0, topic_partition=TopicPartition(topic='penjualan-obat-1', partition=0), offset=82, timestamp=1737380016309, log_start_offset=0, checksum=None, serialized_key_size=-1, serialized_value_size=278, serialized_header_size=-1)\n",
      "ec20242f-7613-49bd-aeb1-2bdec00d876c RecordMetadata(topic='penjualan-obat-1', partition=0, topic_partition=TopicPartition(topic='penjualan-obat-1', partition=0), offset=83, timestamp=1737380021315, log_start_offset=0, checksum=None, serialized_key_size=-1, serialized_value_size=282, serialized_header_size=-1)\n",
      "6f1cfc8f-e33c-4310-ad4e-d156137de450 RecordMetadata(topic='penjualan-obat-1', partition=0, topic_partition=TopicPartition(topic='penjualan-obat-1', partition=0), offset=84, timestamp=1737380026325, log_start_offset=0, checksum=None, serialized_key_size=-1, serialized_value_size=272, serialized_header_size=-1)\n",
      "4a46eeff-7f9a-4c9b-8b95-2f1683ceb880 RecordMetadata(topic='penjualan-obat-1', partition=0, topic_partition=TopicPartition(topic='penjualan-obat-1', partition=0), offset=85, timestamp=1737380031333, log_start_offset=0, checksum=None, serialized_key_size=-1, serialized_value_size=276, serialized_header_size=-1)\n",
      "148775b0-10f6-4e07-a3c0-37c57b70c8ed RecordMetadata(topic='penjualan-obat-1', partition=0, topic_partition=TopicPartition(topic='penjualan-obat-1', partition=0), offset=86, timestamp=1737380036246, log_start_offset=0, checksum=None, serialized_key_size=-1, serialized_value_size=271, serialized_header_size=-1)\n",
      "29a2d4ef-d361-4a51-bb77-4d9a26a8a281 RecordMetadata(topic='penjualan-obat-1', partition=0, topic_partition=TopicPartition(topic='penjualan-obat-1', partition=0), offset=87, timestamp=1737380041256, log_start_offset=0, checksum=None, serialized_key_size=-1, serialized_value_size=279, serialized_header_size=-1)\n",
      "c779c9c7-4815-4ea9-b7ce-4fa7e5104e3a RecordMetadata(topic='penjualan-obat-1', partition=0, topic_partition=TopicPartition(topic='penjualan-obat-1', partition=0), offset=88, timestamp=1737380046266, log_start_offset=0, checksum=None, serialized_key_size=-1, serialized_value_size=276, serialized_header_size=-1)\n",
      "953dfa2f-8db2-4ed3-a1b8-1f9e93ecb82a RecordMetadata(topic='penjualan-obat-1', partition=0, topic_partition=TopicPartition(topic='penjualan-obat-1', partition=0), offset=89, timestamp=1737380051276, log_start_offset=0, checksum=None, serialized_key_size=-1, serialized_value_size=273, serialized_header_size=-1)\n",
      "27599990-647c-4554-9b2e-9da683186c47 RecordMetadata(topic='penjualan-obat-1', partition=0, topic_partition=TopicPartition(topic='penjualan-obat-1', partition=0), offset=90, timestamp=1737380056286, log_start_offset=0, checksum=None, serialized_key_size=-1, serialized_value_size=275, serialized_header_size=-1)\n",
      "03138921-ac91-4061-9986-6ba49eb661b8 RecordMetadata(topic='penjualan-obat-1', partition=0, topic_partition=TopicPartition(topic='penjualan-obat-1', partition=0), offset=91, timestamp=1737380061294, log_start_offset=0, checksum=None, serialized_key_size=-1, serialized_value_size=270, serialized_header_size=-1)\n",
      "ff73b26d-097b-4eda-aaad-f5a60be4de69 RecordMetadata(topic='penjualan-obat-1', partition=0, topic_partition=TopicPartition(topic='penjualan-obat-1', partition=0), offset=92, timestamp=1737380066189, log_start_offset=0, checksum=None, serialized_key_size=-1, serialized_value_size=278, serialized_header_size=-1)\n",
      "c85fe458-b79a-42fe-abe6-2366f42023c1 RecordMetadata(topic='penjualan-obat-1', partition=0, topic_partition=TopicPartition(topic='penjualan-obat-1', partition=0), offset=93, timestamp=1737380071200, log_start_offset=0, checksum=None, serialized_key_size=-1, serialized_value_size=282, serialized_header_size=-1)\n",
      "588a1124-ec12-4612-840d-e8d8621e843e RecordMetadata(topic='penjualan-obat-1', partition=0, topic_partition=TopicPartition(topic='penjualan-obat-1', partition=0), offset=94, timestamp=1737380076211, log_start_offset=0, checksum=None, serialized_key_size=-1, serialized_value_size=280, serialized_header_size=-1)\n",
      "29cb4935-6c40-4395-baa4-d79a322de862 RecordMetadata(topic='penjualan-obat-1', partition=0, topic_partition=TopicPartition(topic='penjualan-obat-1', partition=0), offset=95, timestamp=1737380081221, log_start_offset=0, checksum=None, serialized_key_size=-1, serialized_value_size=270, serialized_header_size=-1)\n",
      "9215bc81-2ff1-4886-a77e-2c105b7df481 RecordMetadata(topic='penjualan-obat-1', partition=0, topic_partition=TopicPartition(topic='penjualan-obat-1', partition=0), offset=96, timestamp=1737380086233, log_start_offset=0, checksum=None, serialized_key_size=-1, serialized_value_size=279, serialized_header_size=-1)\n",
      "ad129f60-10b6-4900-a3e6-8b7bf68d0d32 RecordMetadata(topic='penjualan-obat-1', partition=0, topic_partition=TopicPartition(topic='penjualan-obat-1', partition=0), offset=97, timestamp=1737380091245, log_start_offset=0, checksum=None, serialized_key_size=-1, serialized_value_size=272, serialized_header_size=-1)\n",
      "65e5dd0b-975e-4718-b42a-60ddc774dd11 RecordMetadata(topic='penjualan-obat-1', partition=0, topic_partition=TopicPartition(topic='penjualan-obat-1', partition=0), offset=98, timestamp=1737380096157, log_start_offset=0, checksum=None, serialized_key_size=-1, serialized_value_size=276, serialized_header_size=-1)\n",
      "2ca4c9d8-c713-4724-ad0a-e0e93940b2cd RecordMetadata(topic='penjualan-obat-1', partition=0, topic_partition=TopicPartition(topic='penjualan-obat-1', partition=0), offset=99, timestamp=1737380101164, log_start_offset=0, checksum=None, serialized_key_size=-1, serialized_value_size=276, serialized_header_size=-1)\n",
      "f4d37c4f-ed06-41c2-8e4d-ea30fb6b79f5 RecordMetadata(topic='penjualan-obat-1', partition=0, topic_partition=TopicPartition(topic='penjualan-obat-1', partition=0), offset=100, timestamp=1737380106175, log_start_offset=0, checksum=None, serialized_key_size=-1, serialized_value_size=282, serialized_header_size=-1)\n",
      "e574a2f6-30ce-4ed5-a9a4-a8a2d9aa7c59 RecordMetadata(topic='penjualan-obat-1', partition=0, topic_partition=TopicPartition(topic='penjualan-obat-1', partition=0), offset=101, timestamp=1737380111185, log_start_offset=0, checksum=None, serialized_key_size=-1, serialized_value_size=271, serialized_header_size=-1)\n",
      "388d4109-e05a-495a-8b80-2bcb9b8cca97 RecordMetadata(topic='penjualan-obat-1', partition=0, topic_partition=TopicPartition(topic='penjualan-obat-1', partition=0), offset=102, timestamp=1737380116194, log_start_offset=0, checksum=None, serialized_key_size=-1, serialized_value_size=279, serialized_header_size=-1)\n",
      "236f10ca-fe01-4864-8c82-da0566daf3a3 RecordMetadata(topic='penjualan-obat-1', partition=0, topic_partition=TopicPartition(topic='penjualan-obat-1', partition=0), offset=103, timestamp=1737380121207, log_start_offset=0, checksum=None, serialized_key_size=-1, serialized_value_size=280, serialized_header_size=-1)\n",
      "fec1e349-e0c7-47bb-befd-21d9295e41a5 RecordMetadata(topic='penjualan-obat-1', partition=0, topic_partition=TopicPartition(topic='penjualan-obat-1', partition=0), offset=104, timestamp=1737380126112, log_start_offset=0, checksum=None, serialized_key_size=-1, serialized_value_size=281, serialized_header_size=-1)\n",
      "89921558-415a-47d1-bbd6-c215e9b26c95 RecordMetadata(topic='penjualan-obat-1', partition=0, topic_partition=TopicPartition(topic='penjualan-obat-1', partition=0), offset=105, timestamp=1737380131117, log_start_offset=0, checksum=None, serialized_key_size=-1, serialized_value_size=271, serialized_header_size=-1)\n",
      "d7bd00a1-2ca0-4548-9122-dd5f0ff3f7a6 RecordMetadata(topic='penjualan-obat-1', partition=0, topic_partition=TopicPartition(topic='penjualan-obat-1', partition=0), offset=106, timestamp=1737380136129, log_start_offset=0, checksum=None, serialized_key_size=-1, serialized_value_size=277, serialized_header_size=-1)\n",
      "f6b59ff2-46dd-449e-be9a-c695d7562960 RecordMetadata(topic='penjualan-obat-1', partition=0, topic_partition=TopicPartition(topic='penjualan-obat-1', partition=0), offset=107, timestamp=1737380141140, log_start_offset=0, checksum=None, serialized_key_size=-1, serialized_value_size=278, serialized_header_size=-1)\n",
      "1042d8e4-734e-4de8-9a73-3163a2b422e2 RecordMetadata(topic='penjualan-obat-1', partition=0, topic_partition=TopicPartition(topic='penjualan-obat-1', partition=0), offset=108, timestamp=1737380146150, log_start_offset=0, checksum=None, serialized_key_size=-1, serialized_value_size=279, serialized_header_size=-1)\n",
      "500aaa5e-03b3-4fc8-b45e-ebea065be9e9 RecordMetadata(topic='penjualan-obat-1', partition=0, topic_partition=TopicPartition(topic='penjualan-obat-1', partition=0), offset=109, timestamp=1737380151159, log_start_offset=0, checksum=None, serialized_key_size=-1, serialized_value_size=277, serialized_header_size=-1)\n",
      "5f7ee11e-640d-46bd-a376-cb5243377453 RecordMetadata(topic='penjualan-obat-1', partition=0, topic_partition=TopicPartition(topic='penjualan-obat-1', partition=0), offset=110, timestamp=1737380156067, log_start_offset=0, checksum=None, serialized_key_size=-1, serialized_value_size=277, serialized_header_size=-1)\n",
      "b73ee286-6800-4d21-80d6-55df10039001 RecordMetadata(topic='penjualan-obat-1', partition=0, topic_partition=TopicPartition(topic='penjualan-obat-1', partition=0), offset=111, timestamp=1737380161076, log_start_offset=0, checksum=None, serialized_key_size=-1, serialized_value_size=279, serialized_header_size=-1)\n",
      "4118cacc-6e18-40b2-aaed-1d5ac0658b49 RecordMetadata(topic='penjualan-obat-1', partition=0, topic_partition=TopicPartition(topic='penjualan-obat-1', partition=0), offset=112, timestamp=1737380166085, log_start_offset=0, checksum=None, serialized_key_size=-1, serialized_value_size=278, serialized_header_size=-1)\n",
      "7da42e19-01ea-48b1-84e7-e071374dcddf RecordMetadata(topic='penjualan-obat-1', partition=0, topic_partition=TopicPartition(topic='penjualan-obat-1', partition=0), offset=113, timestamp=1737380171094, log_start_offset=0, checksum=None, serialized_key_size=-1, serialized_value_size=272, serialized_header_size=-1)\n",
      "85359e70-0abf-413c-8a0a-3aeed6eb132f RecordMetadata(topic='penjualan-obat-1', partition=0, topic_partition=TopicPartition(topic='penjualan-obat-1', partition=0), offset=114, timestamp=1737380176103, log_start_offset=0, checksum=None, serialized_key_size=-1, serialized_value_size=274, serialized_header_size=-1)\n",
      "7499e872-cc4d-47e1-a800-0426ef4b656f RecordMetadata(topic='penjualan-obat-1', partition=0, topic_partition=TopicPartition(topic='penjualan-obat-1', partition=0), offset=115, timestamp=1737380181109, log_start_offset=0, checksum=None, serialized_key_size=-1, serialized_value_size=274, serialized_header_size=-1)\n",
      "5c7459c6-6620-4ded-81e6-12189b06c467 RecordMetadata(topic='penjualan-obat-1', partition=0, topic_partition=TopicPartition(topic='penjualan-obat-1', partition=0), offset=116, timestamp=1737380186064, log_start_offset=0, checksum=None, serialized_key_size=-1, serialized_value_size=276, serialized_header_size=-1)\n",
      "d99c52a6-5048-46a9-957c-6d22655a869e RecordMetadata(topic='penjualan-obat-1', partition=0, topic_partition=TopicPartition(topic='penjualan-obat-1', partition=0), offset=117, timestamp=1737380191073, log_start_offset=0, checksum=None, serialized_key_size=-1, serialized_value_size=278, serialized_header_size=-1)\n",
      "aa42a493-a698-4356-883b-18a478002a6f RecordMetadata(topic='penjualan-obat-1', partition=0, topic_partition=TopicPartition(topic='penjualan-obat-1', partition=0), offset=118, timestamp=1737380196083, log_start_offset=0, checksum=None, serialized_key_size=-1, serialized_value_size=275, serialized_header_size=-1)\n",
      "b587019e-5f1b-4338-af0f-622bc6d7862f RecordMetadata(topic='penjualan-obat-1', partition=0, topic_partition=TopicPartition(topic='penjualan-obat-1', partition=0), offset=119, timestamp=1737380201101, log_start_offset=0, checksum=None, serialized_key_size=-1, serialized_value_size=278, serialized_header_size=-1)\n",
      "0093bbbd-d5ed-41c1-b1ba-ff04543e1d6d RecordMetadata(topic='penjualan-obat-1', partition=0, topic_partition=TopicPartition(topic='penjualan-obat-1', partition=0), offset=120, timestamp=1737380206112, log_start_offset=0, checksum=None, serialized_key_size=-1, serialized_value_size=275, serialized_header_size=-1)\n",
      "28f1c9f3-ddc0-4782-987e-3be410c4e18c RecordMetadata(topic='penjualan-obat-1', partition=0, topic_partition=TopicPartition(topic='penjualan-obat-1', partition=0), offset=121, timestamp=1737380211121, log_start_offset=0, checksum=None, serialized_key_size=-1, serialized_value_size=279, serialized_header_size=-1)\n",
      "df9bfbb8-adac-42e7-a017-cea0be7b2280 RecordMetadata(topic='penjualan-obat-1', partition=0, topic_partition=TopicPartition(topic='penjualan-obat-1', partition=0), offset=122, timestamp=1737380216013, log_start_offset=0, checksum=None, serialized_key_size=-1, serialized_value_size=268, serialized_header_size=-1)\n",
      "f0f93645-88b9-4ac3-9d97-41d63eec0506 RecordMetadata(topic='penjualan-obat-1', partition=0, topic_partition=TopicPartition(topic='penjualan-obat-1', partition=0), offset=123, timestamp=1737380221023, log_start_offset=0, checksum=None, serialized_key_size=-1, serialized_value_size=273, serialized_header_size=-1)\n",
      "1a2cf7ad-a08d-450a-a5eb-c243754ba06f RecordMetadata(topic='penjualan-obat-1', partition=0, topic_partition=TopicPartition(topic='penjualan-obat-1', partition=0), offset=124, timestamp=1737380226029, log_start_offset=0, checksum=None, serialized_key_size=-1, serialized_value_size=270, serialized_header_size=-1)\n",
      "73c8d8b5-41a1-4eb6-bacb-9e0b4dde280c RecordMetadata(topic='penjualan-obat-1', partition=0, topic_partition=TopicPartition(topic='penjualan-obat-1', partition=0), offset=125, timestamp=1737380231042, log_start_offset=0, checksum=None, serialized_key_size=-1, serialized_value_size=279, serialized_header_size=-1)\n",
      "60f488aa-eb6f-4db2-b642-616b33cab1a1 RecordMetadata(topic='penjualan-obat-1', partition=0, topic_partition=TopicPartition(topic='penjualan-obat-1', partition=0), offset=126, timestamp=1737380236048, log_start_offset=0, checksum=None, serialized_key_size=-1, serialized_value_size=272, serialized_header_size=-1)\n",
      "51b29d67-8cef-4373-a827-9df78201806f RecordMetadata(topic='penjualan-obat-1', partition=0, topic_partition=TopicPartition(topic='penjualan-obat-1', partition=0), offset=127, timestamp=1737380241054, log_start_offset=0, checksum=None, serialized_key_size=-1, serialized_value_size=277, serialized_header_size=-1)\n",
      "d870e6dd-6d05-4f01-8991-18663bff2216 RecordMetadata(topic='penjualan-obat-1', partition=0, topic_partition=TopicPartition(topic='penjualan-obat-1', partition=0), offset=128, timestamp=1737380245979, log_start_offset=0, checksum=None, serialized_key_size=-1, serialized_value_size=275, serialized_header_size=-1)\n",
      "982aea31-68d6-4aea-b07d-952ac316e780 RecordMetadata(topic='penjualan-obat-1', partition=0, topic_partition=TopicPartition(topic='penjualan-obat-1', partition=0), offset=129, timestamp=1737380250992, log_start_offset=0, checksum=None, serialized_key_size=-1, serialized_value_size=279, serialized_header_size=-1)\n",
      "8b462ba1-cdb1-428e-b862-eb581c27bed8 RecordMetadata(topic='penjualan-obat-1', partition=0, topic_partition=TopicPartition(topic='penjualan-obat-1', partition=0), offset=130, timestamp=1737380256004, log_start_offset=0, checksum=None, serialized_key_size=-1, serialized_value_size=270, serialized_header_size=-1)\n",
      "08b3e5df-4497-4047-b4a0-e3960f80d5ee RecordMetadata(topic='penjualan-obat-1', partition=0, topic_partition=TopicPartition(topic='penjualan-obat-1', partition=0), offset=131, timestamp=1737380261015, log_start_offset=0, checksum=None, serialized_key_size=-1, serialized_value_size=273, serialized_header_size=-1)\n",
      "fba3c3cc-f614-4eae-af41-8b560d3d8b15 RecordMetadata(topic='penjualan-obat-1', partition=0, topic_partition=TopicPartition(topic='penjualan-obat-1', partition=0), offset=132, timestamp=1737380266023, log_start_offset=0, checksum=None, serialized_key_size=-1, serialized_value_size=279, serialized_header_size=-1)\n",
      "13569042-a6ca-49a5-a678-3909488bda65 RecordMetadata(topic='penjualan-obat-1', partition=0, topic_partition=TopicPartition(topic='penjualan-obat-1', partition=0), offset=133, timestamp=1737380271029, log_start_offset=0, checksum=None, serialized_key_size=-1, serialized_value_size=271, serialized_header_size=-1)\n",
      "158410b5-bf65-4adf-9dfc-0d47d11de32c RecordMetadata(topic='penjualan-obat-1', partition=0, topic_partition=TopicPartition(topic='penjualan-obat-1', partition=0), offset=134, timestamp=1737380276064, log_start_offset=0, checksum=None, serialized_key_size=-1, serialized_value_size=277, serialized_header_size=-1)\n",
      "485449c7-5f6d-4d6a-aada-faa92b714a85 RecordMetadata(topic='penjualan-obat-1', partition=0, topic_partition=TopicPartition(topic='penjualan-obat-1', partition=0), offset=135, timestamp=1737380281074, log_start_offset=0, checksum=None, serialized_key_size=-1, serialized_value_size=275, serialized_header_size=-1)\n",
      "7b49a159-3bb7-4e32-b493-4eed31ecc719 RecordMetadata(topic='penjualan-obat-1', partition=0, topic_partition=TopicPartition(topic='penjualan-obat-1', partition=0), offset=136, timestamp=1737380286086, log_start_offset=0, checksum=None, serialized_key_size=-1, serialized_value_size=272, serialized_header_size=-1)\n"
     ]
    }
   ],
   "source": [
    "from datetime import datetime\n",
    "# DataGenerator untuk penjualan obat\n",
    "class DataGenerator(object):\n",
    "    @staticmethod\n",
    "    def get_data():\n",
    "        transaction_date = faker.date_this_year()  # Mendapatkan tanggal transaksi\n",
    "        transaction_time = faker.time()  # Mendapatkan waktu transaksi\n",
    "\n",
    "        # Mengonversi tanggal dan waktu menjadi string dalam format yang dapat diterima JSON\n",
    "        transaction_date_str = transaction_date.strftime('%Y-%m-%d') if isinstance(transaction_date, datetime) else str(transaction_date)\n",
    "        transaction_time_str = transaction_time  # Faker time() sudah berupa string (jam:menit:detik)\n",
    "\n",
    "        return [\n",
    "            uuid.uuid4().__str__(),  # Transaction ID\n",
    "            faker.name(),  # Nama pembeli\n",
    "            faker.random_element(elements=('Paracetamol', 'Ibuprofen', 'Amoxicillin', 'Vitamin C', 'Antibiotik', 'Cough Syrup')),  # Nama obat\n",
    "            faker.random_int(min=1, max=5),  # Jumlah obat yang dibeli\n",
    "            faker.random_int(min=1000, max=20000),  # Harga per unit obat (dalam IDR)\n",
    "            faker.random_int(min=5000, max=100000),  # Total harga transaksi\n",
    "            faker.random_element(elements=('Cash', 'Credit Card', 'Debit Card')),  # Metode pembayaran\n",
    "            transaction_date_str,  # Tanggal transaksi sebagai string\n",
    "            transaction_time_str  # Waktu transaksi sebagai string\n",
    "        ]\n",
    "\n",
    "# Mengirimkan data ke Kafka\n",
    "for i in range(1, 400):  # Jumlah data yang akan dibuat\n",
    "    columns = [\"transaction_id\", \"buyer_name\", \"medication_name\", \"quantity\", \"unit_price\", \"total_price\", \"payment_method\", \"transaction_date\", \"transaction_time\"]\n",
    "    data_list = DataGenerator.get_data()\n",
    "    json_data = dict(zip(columns, data_list))\n",
    "    _payload = json.dumps(json_data).encode(\"utf-8\")\n",
    "    response = producer.send(topic=kafka_topic_partition, value=_payload)\n",
    "    print(json_data['transaction_id'], response.get())  # Menampilkan ID transaksi dan status pengiriman\n",
    "    sleep(5)  # Delay 5 detik antara setiap pengiriman\n"
   ]
  },
  {
   "cell_type": "code",
   "execution_count": null,
   "id": "3ecdcd1c-0926-437d-a10c-2a010b3ee6f7",
   "metadata": {},
   "outputs": [],
   "source": []
  }
 ],
 "metadata": {
  "kernelspec": {
   "display_name": "Python 3 (ipykernel)",
   "language": "python",
   "name": "python3"
  },
  "language_info": {
   "codemirror_mode": {
    "name": "ipython",
    "version": 3
   },
   "file_extension": ".py",
   "mimetype": "text/x-python",
   "name": "python",
   "nbconvert_exporter": "python",
   "pygments_lexer": "ipython3",
   "version": "3.10.10"
  }
 },
 "nbformat": 4,
 "nbformat_minor": 5
}
